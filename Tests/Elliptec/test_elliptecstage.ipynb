{
 "cells": [
  {
   "cell_type": "code",
   "execution_count": 1,
   "id": "e920a629-2e14-4bc5-b73f-471bc909b423",
   "metadata": {},
   "outputs": [],
   "source": [
    "from elliptecstage.elliptecstage import ElloStage, ElloException"
   ]
  },
  {
   "cell_type": "code",
   "execution_count": 2,
   "id": "5ac3b0f2-9214-4892-b876-712f91ec6373",
   "metadata": {
    "collapsed": false,
    "jupyter": {
     "outputs_hidden": false
    }
   },
   "outputs": [],
   "source": [
    "import serial\n",
    "from serial.tools.list_ports import comports"
   ]
  },
  {
   "cell_type": "code",
   "execution_count": 3,
   "id": "843ce6fb-d748-4788-aa2d-e378a198c4a4",
   "metadata": {},
   "outputs": [],
   "source": [
    "# Sélection automatique\n",
    "motif_elliptec = 'FT230X Basic UART'\n",
    "appareil_elliptec = next(filter(lambda x: motif_elliptec in str(x), comports()))"
   ]
  },
  {
   "cell_type": "code",
   "execution_count": 12,
   "id": "9cf34775-b9e7-4dbd-a788-96492eeb2fb6",
   "metadata": {},
   "outputs": [],
   "source": [
    "def tester_appareil(com, n: int = 0) -> bool:\n",
    "    cmd = f'{format(n, \"01x\")}in\\n'\n",
    "    com.write(bytes(cmd, encoding='utf-8'))\n",
    "    res = str(com.readline(), encoding='utf-8').strip()\n",
    "    return bool(res)\n",
    "\n",
    "def lister_appareils(com, début: int = 0, fin: int = 15) -> list:\n",
    "    return [n for n in range(début, fin+1) if tester_appareil(com, n)]"
   ]
  },
  {
   "cell_type": "code",
   "execution_count": 14,
   "id": "46b68447-3ba2-495c-b502-3e636b5393fb",
   "metadata": {},
   "outputs": [],
   "source": [
    "com = serial.Serial(appareil_elliptec.device, timeout=5)\n",
    "addresses = lister_appareils(com, 1, 3)\n",
    "stages = [ElloStage(com, i) for i in addresses]"
   ]
  },
  {
   "cell_type": "code",
   "execution_count": 16,
   "id": "32f60601-25cf-4efc-963b-c4a19cbb73e6",
   "metadata": {},
   "outputs": [
    {
     "name": "stdout",
     "output_type": "stream",
     "text": [
      "# Étage 0\n",
      "2. Positionnement: cmd=<ElloDeviceResponses._DEVGET_POSITION: (b'PO', <bound method ElloDeviceUtility.position of <enum 'ElloDeviceUtility'>>)>, dat=0.0, add=1\n",
      "3. Déplacement: z=1.99951171875\n",
      "# Étage 1\n",
      "2. Positionnement: cmd=<ElloDeviceResponses._DEVGET_POSITION: (b'PO', <bound method ElloDeviceUtility.position of <enum 'ElloDeviceUtility'>>)>, dat=2097151.9990234375, add=2\n",
      "3. Déplacement: z=2.00048828125\n",
      "# Étage 2\n",
      "2. Positionnement: cmd=<ElloDeviceResponses._DEVGET_POSITION: (b'PO', <bound method ElloDeviceUtility.position of <enum 'ElloDeviceUtility'>>)>, dat=2097151.9990234375, add=3\n",
      "3. Déplacement: z=1.99853515625\n"
     ]
    }
   ],
   "source": [
    "for i, stage in enumerate(stages):\n",
    "    # Exemple tiré de https://github.com/augvislab/elliptecstage\n",
    "    print(f'# Étage {i}')\n",
    "    \n",
    "    # L'initialisation se fait à la création de l'objet.\n",
    "    #print('1. Initialisation', end='')\n",
    "    #stage.initialize_motor()\n",
    "    #print('.')\n",
    "    \n",
    "    #print(stage.info)\n",
    "    \n",
    "    try:\n",
    "        print('2. Positionnement: ', end='')\n",
    "        stage.move_home()\n",
    "        cmd, dat, add = stage.read_message_blocking_position_response()\n",
    "        print(f'{cmd=!r}, {dat=!r}, {add=!r}')\n",
    "    \n",
    "        print('3. Déplacement: ', end='')\n",
    "        stage.move_absolute(2.0)\n",
    "        cmd, z, add = stage.read_message_blocking_position_response()\n",
    "        print(f'{z=!r}')\n",
    "    except ElloException as e:\n",
    "        print()\n",
    "        print('**', e, '**')\n",
    "        print()\n",
    "    \n",
    "    #_ = input('Continuer?')\n",
    "    #if _.startswith('n'):\n",
    "    #    break\n",
    "    "
   ]
  },
  {
   "cell_type": "code",
   "execution_count": 17,
   "id": "e938805b-a1cb-4be1-9efc-81f2d2717523",
   "metadata": {},
   "outputs": [],
   "source": [
    "com.close()"
   ]
  },
  {
   "cell_type": "code",
   "execution_count": null,
   "id": "e02fa593-e293-43ea-b21c-994076b8fc82",
   "metadata": {},
   "outputs": [],
   "source": []
  }
 ],
 "metadata": {
  "kernelspec": {
   "display_name": "Python 3 (ipykernel)",
   "language": "python",
   "name": "python3"
  },
  "language_info": {
   "codemirror_mode": {
    "name": "ipython",
    "version": 3
   },
   "file_extension": ".py",
   "mimetype": "text/x-python",
   "name": "python",
   "nbconvert_exporter": "python",
   "pygments_lexer": "ipython3",
   "version": "3.8.10"
  }
 },
 "nbformat": 4,
 "nbformat_minor": 5
}
