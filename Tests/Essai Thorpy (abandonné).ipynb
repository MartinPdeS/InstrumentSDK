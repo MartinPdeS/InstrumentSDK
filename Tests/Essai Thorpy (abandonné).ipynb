{
 "cells": [
  {
   "cell_type": "code",
   "execution_count": 4,
   "id": "ff2a8aac",
   "metadata": {},
   "outputs": [
    {
     "name": "stdout",
     "output_type": "stream",
     "text": [
      "Collecting https://github.com/UniNE-CHYN/thorpy.git\n",
      "  Downloading https://github.com/UniNE-CHYN/thorpy.git\n",
      "\u001b[K     \\ 152 kB 465 kB/s\n",
      "\u001b[31m  ERROR: Cannot unpack file /tmp/pip-unpack-uthbr21g/thorpy.git (downloaded from /tmp/pip-req-build-09eros1u, content-type: text/html; charset=utf-8); cannot detect archive format\u001b[0m\n",
      "\u001b[31mERROR: Cannot determine archive format of /tmp/pip-req-build-09eros1u\u001b[0m\n",
      "\u001b[?25hNote: you may need to restart the kernel to use updated packages.\n"
     ]
    }
   ],
   "source": [
    "%pip install https://github.com/UniNE-CHYN/thorpy.git"
   ]
  },
  {
   "cell_type": "code",
   "execution_count": 1,
   "id": "0b599ed9",
   "metadata": {},
   "outputs": [],
   "source": [
    "import thorpy # https://github.com/UniNE-CHYN/thorpy.git"
   ]
  },
  {
   "cell_type": "code",
   "execution_count": 2,
   "id": "a060f340",
   "metadata": {},
   "outputs": [],
   "source": [
    "from thorpy.comm.discovery import discover_stages"
   ]
  },
  {
   "cell_type": "code",
   "execution_count": 3,
   "id": "8a9d2bcc",
   "metadata": {},
   "outputs": [],
   "source": [
    "from thorpy.message import *"
   ]
  },
  {
   "cell_type": "code",
   "execution_count": 4,
   "id": "960f581d",
   "metadata": {},
   "outputs": [],
   "source": [
    "stages = list(discover_stages())"
   ]
  },
  {
   "cell_type": "code",
   "execution_count": 5,
   "id": "c0516c2c",
   "metadata": {},
   "outputs": [
    {
     "data": {
      "text/plain": [
       "[]"
      ]
     },
     "execution_count": 5,
     "metadata": {},
     "output_type": "execute_result"
    }
   ],
   "source": [
    "stages"
   ]
  },
  {
   "cell_type": "code",
   "execution_count": null,
   "id": "68f068e0",
   "metadata": {},
   "outputs": [],
   "source": []
  }
 ],
 "metadata": {
  "kernelspec": {
   "display_name": "Python 3 (ipykernel)",
   "language": "python",
   "name": "python3"
  },
  "language_info": {
   "codemirror_mode": {
    "name": "ipython",
    "version": 3
   },
   "file_extension": ".py",
   "mimetype": "text/x-python",
   "name": "python",
   "nbconvert_exporter": "python",
   "pygments_lexer": "ipython3",
   "version": "3.8.10"
  }
 },
 "nbformat": 4,
 "nbformat_minor": 5
}
