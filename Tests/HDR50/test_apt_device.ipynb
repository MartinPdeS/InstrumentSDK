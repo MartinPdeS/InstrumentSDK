{
 "cells": [
  {
   "cell_type": "code",
   "execution_count": 1,
   "id": "5c416976",
   "metadata": {
    "collapsed": false,
    "jupyter": {
     "outputs_hidden": false
    }
   },
   "outputs": [],
   "source": [
    "from thorlabs_apt_device.devices.bsc import BSC201 # https://thorlabs-apt-device.readthedocs.io/en/latest/"
   ]
  },
  {
   "cell_type": "code",
   "execution_count": 2,
   "id": "9f79fe71",
   "metadata": {
    "collapsed": false,
    "jupyter": {
     "outputs_hidden": false
    }
   },
   "outputs": [],
   "source": [
    "import serial\n",
    "from serial.tools.list_ports import comports"
   ]
  },
  {
   "cell_type": "code",
   "execution_count": 3,
   "id": "e7284bf9-2bd8-4c4e-bd8a-3c31d1762561",
   "metadata": {},
   "outputs": [],
   "source": [
    "import time"
   ]
  },
  {
   "cell_type": "code",
   "execution_count": 4,
   "id": "297ef72c",
   "metadata": {
    "collapsed": false,
    "jupyter": {
     "outputs_hidden": false
    }
   },
   "outputs": [
    {
     "name": "stdout",
     "output_type": "stream",
     "text": [
      "[0] /dev/ttyS0 - ttyS0\n",
      "[1] /dev/ttyUSB2 - APT Stepper Motor Controller - APT Stepper Motor Controller\n",
      "[2] /dev/ttyUSB1 - FT230X Basic UART - FT230X Basic UART\n"
     ]
    }
   ],
   "source": [
    "for i, p in enumerate(comports()):\n",
    "    print(f'[{i}] {p}')"
   ]
  },
  {
   "cell_type": "code",
   "execution_count": null,
   "id": "c21bfa4a-3d06-4c27-b7da-c386c67eb7b3",
   "metadata": {},
   "outputs": [],
   "source": [
    "# Sélection manuelle\n",
    "appareil_apt = comports()[int(input('APT: '))]\n",
    "appareil_elliptec = comports()[int(input('ELL: '))]"
   ]
  },
  {
   "cell_type": "code",
   "execution_count": 5,
   "id": "a0a7354c-5446-4933-996c-2c30825e2037",
   "metadata": {},
   "outputs": [],
   "source": [
    "# Sélection automatique\n",
    "motif_apt = 'APT Stepper Motor Controller'\n",
    "motif_elliptec = 'FT230X Basic UART'\n",
    "\n",
    "appareil_apt = next(filter(lambda x: motif_apt in str(x), comports()))\n",
    "appareil_elliptec = next(filter(lambda x: motif_elliptec in str(x), comports()))"
   ]
  },
  {
   "cell_type": "code",
   "execution_count": 6,
   "id": "066aedee-692f-4289-b152-81b129b6fb92",
   "metadata": {},
   "outputs": [
    {
     "data": {
      "text/plain": [
       "(<serial.tools.list_ports_linux.SysFS at 0x7f85ec474a90>,\n",
       " <serial.tools.list_ports_linux.SysFS at 0x7f85ec474be0>)"
      ]
     },
     "execution_count": 6,
     "metadata": {},
     "output_type": "execute_result"
    }
   ],
   "source": [
    "appareil_apt, appareil_elliptec"
   ]
  },
  {
   "cell_type": "code",
   "execution_count": null,
   "id": "7f2242c7",
   "metadata": {
    "collapsed": false,
    "jupyter": {
     "outputs_hidden": false
    }
   },
   "outputs": [],
   "source": [
    "numéro_série = \"40219394\" # Pour l'appareil spécifique qu'on utilise"
   ]
  },
  {
   "cell_type": "markdown",
   "id": "d883d5a7",
   "metadata": {},
   "source": [
    "# Essai avec la classe modifié"
   ]
  },
  {
   "cell_type": "code",
   "execution_count": 17,
   "id": "9bdca167",
   "metadata": {
    "collapsed": false,
    "jupyter": {
     "outputs_hidden": false
    }
   },
   "outputs": [],
   "source": [
    "# Basé sur https://thorlabs-apt-device.readthedocs.io/en/latest/api/thorlabs_apt_device.devices.bsc.html#thorlabs_apt_device.devices.bsc.BSC201\n",
    "class BSC201_HDR50(BSC201):\n",
    "    # Données tirées de Kinesis\n",
    "    kinesis = {'travel [pas]': 27_033_577,\n",
    "               'vel [pas/s]': 201_578_964,\n",
    "               'acc [pas/s²]': 20_653,\n",
    "               'jog_step [pas]': 37_547}\n",
    "    # Données tirées de https://www.thorlabs.com/drawings/8d6029bfe62e7acd-DF270E33-CE4C-A18B-8D52A70104946BCD/HDR50-Manual.pdf\n",
    "    manuel = {'travel [°]': 360,\n",
    "              'vel [°/s]': 50,\n",
    "              'acc [°/s²]': 80,\n",
    "              'macropas [°]': 1.8,\n",
    "              'micropas [1/macropas]': 2048,\n",
    "              'jog_step [pas]': kinesis['jog_step [pas]']}\n",
    "    manuel['micropas [°]'] = manuel['macropas [°]'] / manuel['micropas [1/macropas]']\n",
    "    manuel['travel [pas]'] = int( manuel['travel [°]'] / manuel['micropas [°]'] )\n",
    "    assert manuel['travel [pas]'] == 409_600\n",
    "    manuel['vel [pas/s]'] = int( manuel['vel [°/s]'] / manuel['micropas [°]'] )\n",
    "    manuel['acc [pas/s²]'] = int( manuel['acc [°/s²]'] / manuel['micropas [°]'] )\n",
    "    \n",
    "    def __init__(self,\n",
    "                 serial_port=None,\n",
    "                 vid=None,\n",
    "                 pid=None,\n",
    "                 manufacturer=None,\n",
    "                 product=None,\n",
    "                 serial_number='40',\n",
    "                 location=None,\n",
    "                 home=True,\n",
    "                 invert_direction_logic=False,\n",
    "                 swap_limit_switches=True,\n",
    "                 réglages=manuel):\n",
    "        début = time.time()\n",
    "        super().__init__(serial_port=serial_port,\n",
    "                         vid=vid, pid=pid,\n",
    "                         manufacturer=manufacturer,\n",
    "                         product=product,\n",
    "                         serial_number=serial_number,\n",
    "                         location=location,\n",
    "                         home=home,\n",
    "                         invert_direction_logic=invert_direction_logic,\n",
    "                         swap_limit_switches=swap_limit_switches)\n",
    "    \n",
    "        # Initial velocity parameters are effectively zero on startup, set something more sensible\n",
    "        # Homing is initiated 1.0s after init, so hopefully these will take effect before then...\n",
    "        # Tiré de la source pour BSC201_DRV250\n",
    "        for bay_i, _ in enumerate(self.bays):\n",
    "            for channel_i, _ in enumerate(self.channels):\n",
    "                self.set_velocity_params(acceleration=réglages['acc [pas/s²]'],\n",
    "                                         max_velocity=réglages['vel [pas/s]'],\n",
    "                                         bay=bay_i,\n",
    "                                         channel=channel_i)\n",
    "                self.set_jog_params(size=réglages['jog_step [pas]'],\n",
    "                                    acceleration=réglages['acc [pas/s²]'],\n",
    "                                    max_velocity=réglages['vel [pas/s]'],\n",
    "                                    bay=bay_i,\n",
    "                                    channel=channel_i)\n",
    "                self.set_home_params(velocity=réglages['vel [pas/s]'],\n",
    "                                     offset_distance=0,\n",
    "                                     bay=bay_i,\n",
    "                                     channel=channel_i)\n",
    "                # Use open-loop positioning (only using stepper counts)\n",
    "                self.set_loop_params(loop_mode=1, prop=0, integral=0, diff=0, pid_clip=0, pid_tol=0, encoder_const=0, bay=0, channel=0)\n",
    "        \n",
    "        délai = time.time() - début\n",
    "        if délai > 1:\n",
    "            print(f\"L'initialisation s'est faite trop lentement ({délai=}s).\")\n"
   ]
  },
  {
   "cell_type": "code",
   "execution_count": 38,
   "id": "dedc5129-29ad-4db0-86eb-7b694226cddc",
   "metadata": {
    "scrolled": true,
    "tags": []
   },
   "outputs": [],
   "source": [
    "stage.close()"
   ]
  },
  {
   "cell_type": "code",
   "execution_count": 39,
   "id": "2705aa11-2a99-44b0-9d20-7e5a29b39e71",
   "metadata": {},
   "outputs": [],
   "source": [
    "stage = BSC201_HDR50(serial_port=appareil_apt, réglages=BSC201_HDR50.manuel)\n",
    "stage.identify()"
   ]
  },
  {
   "cell_type": "code",
   "execution_count": 47,
   "id": "ca5c9074",
   "metadata": {
    "collapsed": false,
    "jupyter": {
     "outputs_hidden": false
    },
    "scrolled": true
   },
   "outputs": [
    {
     "data": {
      "text/plain": [
       "{'position': -27723,\n",
       " 'enc_count': 0,\n",
       " 'velocity': 0.0,\n",
       " 'forward_limit_switch': True,\n",
       " 'reverse_limit_switch': False,\n",
       " 'moving_forward': False,\n",
       " 'moving_reverse': True,\n",
       " 'jogging_forward': False,\n",
       " 'jogging_reverse': False,\n",
       " 'motor_connected': False,\n",
       " 'homing': False,\n",
       " 'homed': False,\n",
       " 'tracking': True,\n",
       " 'interlock': False,\n",
       " 'settled': False,\n",
       " 'motion_error': False,\n",
       " 'motor_current_limit_reached': False,\n",
       " 'channel_enabled': True,\n",
       " 'msg': 'mot_get_statusupdate',\n",
       " 'msgid': 1153,\n",
       " 'source': 33,\n",
       " 'dest': 1,\n",
       " 'chan_ident': 1,\n",
       " 'forward_limit_soft': False,\n",
       " 'reverse_limit_soft': False,\n",
       " 'initializing': False,\n",
       " 'instrument_error': False,\n",
       " 'overtemp': False,\n",
       " 'voltage_fault': False,\n",
       " 'commutation_error': False,\n",
       " 'digital_in_1': True,\n",
       " 'digital_in_2': False,\n",
       " 'digital_in_3': True,\n",
       " 'digital_in_4': False,\n",
       " 'encoder_fault': False,\n",
       " 'overcurrent': False,\n",
       " 'current_fault': False,\n",
       " 'power_ok': False,\n",
       " 'active': False,\n",
       " 'error': False}"
      ]
     },
     "execution_count": 47,
     "metadata": {},
     "output_type": "execute_result"
    }
   ],
   "source": [
    "stage.status"
   ]
  },
  {
   "cell_type": "code",
   "execution_count": 45,
   "id": "afa4eb62",
   "metadata": {
    "collapsed": false,
    "jupyter": {
     "outputs_hidden": false
    },
    "scrolled": true,
    "tags": []
   },
   "outputs": [
    {
     "data": {
      "text/plain": [
       "{'position': -36743,\n",
       " 'enc_count': 0,\n",
       " 'velocity': 0.0,\n",
       " 'forward_limit_switch': True,\n",
       " 'reverse_limit_switch': False,\n",
       " 'moving_forward': False,\n",
       " 'moving_reverse': False,\n",
       " 'jogging_forward': False,\n",
       " 'jogging_reverse': False,\n",
       " 'motor_connected': False,\n",
       " 'homing': False,\n",
       " 'homed': False,\n",
       " 'tracking': True,\n",
       " 'interlock': False,\n",
       " 'settled': False,\n",
       " 'motion_error': False,\n",
       " 'motor_current_limit_reached': False,\n",
       " 'channel_enabled': True,\n",
       " 'msg': 'mot_get_statusupdate',\n",
       " 'msgid': 1153,\n",
       " 'source': 33,\n",
       " 'dest': 1,\n",
       " 'chan_ident': 1,\n",
       " 'forward_limit_soft': False,\n",
       " 'reverse_limit_soft': False,\n",
       " 'initializing': False,\n",
       " 'instrument_error': False,\n",
       " 'overtemp': False,\n",
       " 'voltage_fault': False,\n",
       " 'commutation_error': False,\n",
       " 'digital_in_1': True,\n",
       " 'digital_in_2': False,\n",
       " 'digital_in_3': True,\n",
       " 'digital_in_4': False,\n",
       " 'encoder_fault': False,\n",
       " 'overcurrent': False,\n",
       " 'current_fault': False,\n",
       " 'power_ok': False,\n",
       " 'active': False,\n",
       " 'error': False}"
      ]
     },
     "execution_count": 45,
     "metadata": {},
     "output_type": "execute_result"
    }
   ],
   "source": [
    "stage.move_velocity(True)\n",
    "stage.status"
   ]
  },
  {
   "cell_type": "code",
   "execution_count": 49,
   "id": "4be69258-18de-4bf5-93fc-0fb655a69168",
   "metadata": {
    "scrolled": true,
    "tags": []
   },
   "outputs": [
    {
     "data": {
      "text/plain": [
       "{'position': -19751,\n",
       " 'enc_count': 0,\n",
       " 'velocity': 0.0,\n",
       " 'forward_limit_switch': True,\n",
       " 'reverse_limit_switch': False,\n",
       " 'moving_forward': False,\n",
       " 'moving_reverse': False,\n",
       " 'jogging_forward': False,\n",
       " 'jogging_reverse': False,\n",
       " 'motor_connected': False,\n",
       " 'homing': False,\n",
       " 'homed': False,\n",
       " 'tracking': True,\n",
       " 'interlock': False,\n",
       " 'settled': False,\n",
       " 'motion_error': False,\n",
       " 'motor_current_limit_reached': False,\n",
       " 'channel_enabled': True,\n",
       " 'msg': 'mot_get_statusupdate',\n",
       " 'msgid': 1153,\n",
       " 'source': 33,\n",
       " 'dest': 1,\n",
       " 'chan_ident': 1,\n",
       " 'forward_limit_soft': False,\n",
       " 'reverse_limit_soft': False,\n",
       " 'initializing': False,\n",
       " 'instrument_error': False,\n",
       " 'overtemp': False,\n",
       " 'voltage_fault': False,\n",
       " 'commutation_error': False,\n",
       " 'digital_in_1': True,\n",
       " 'digital_in_2': False,\n",
       " 'digital_in_3': True,\n",
       " 'digital_in_4': False,\n",
       " 'encoder_fault': False,\n",
       " 'overcurrent': False,\n",
       " 'current_fault': False,\n",
       " 'power_ok': False,\n",
       " 'active': False,\n",
       " 'error': False}"
      ]
     },
     "execution_count": 49,
     "metadata": {},
     "output_type": "execute_result"
    }
   ],
   "source": [
    "stage.stop(True)\n",
    "stage.status"
   ]
  },
  {
   "cell_type": "code",
   "execution_count": 50,
   "id": "e092eeb2",
   "metadata": {
    "collapsed": false,
    "jupyter": {
     "outputs_hidden": false
    }
   },
   "outputs": [],
   "source": [
    "stage.close()"
   ]
  },
  {
   "cell_type": "code",
   "execution_count": null,
   "id": "181fdd0e-75ae-46eb-b753-70273397fc97",
   "metadata": {},
   "outputs": [],
   "source": []
  }
 ],
 "metadata": {
  "kernelspec": {
   "display_name": "Python 3 (ipykernel)",
   "language": "python",
   "name": "python3"
  },
  "language_info": {
   "codemirror_mode": {
    "name": "ipython",
    "version": 3
   },
   "file_extension": ".py",
   "mimetype": "text/x-python",
   "name": "python",
   "nbconvert_exporter": "python",
   "pygments_lexer": "ipython3",
   "version": "3.8.10"
  }
 },
 "nbformat": 4,
 "nbformat_minor": 5
}
