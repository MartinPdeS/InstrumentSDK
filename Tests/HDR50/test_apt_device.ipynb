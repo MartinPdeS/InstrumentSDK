{
 "cells": [
  {
   "cell_type": "code",
   "execution_count": 1,
   "id": "5c416976",
   "metadata": {
    "collapsed": false,
    "jupyter": {
     "outputs_hidden": false
    }
   },
   "outputs": [],
   "source": [
    "from thorlabs_apt_device.devices.bsc import BSC, BSC201 # https://thorlabs-apt-device.readthedocs.io/en/latest/"
   ]
  },
  {
   "cell_type": "code",
   "execution_count": 2,
   "id": "9f79fe71",
   "metadata": {
    "collapsed": false,
    "jupyter": {
     "outputs_hidden": false
    }
   },
   "outputs": [],
   "source": [
    "import serial\n",
    "from serial.tools.list_ports import comports"
   ]
  },
  {
   "cell_type": "code",
   "execution_count": 3,
   "id": "e7284bf9-2bd8-4c4e-bd8a-3c31d1762561",
   "metadata": {},
   "outputs": [],
   "source": [
    "import time"
   ]
  },
  {
   "cell_type": "code",
   "execution_count": 4,
   "id": "297ef72c",
   "metadata": {
    "collapsed": false,
    "jupyter": {
     "outputs_hidden": false
    }
   },
   "outputs": [
    {
     "name": "stdout",
     "output_type": "stream",
     "text": [
      "[0] /dev/ttyS0 - ttyS0\n",
      "[1] /dev/ttyUSB2 - APT Stepper Motor Controller - APT Stepper Motor Controller\n",
      "[2] /dev/ttyUSB3 - FT230X Basic UART - FT230X Basic UART\n"
     ]
    }
   ],
   "source": [
    "for i, p in enumerate(comports()):\n",
    "    print(f'[{i}] {p}')"
   ]
  },
  {
   "cell_type": "code",
   "execution_count": null,
   "id": "c21bfa4a-3d06-4c27-b7da-c386c67eb7b3",
   "metadata": {},
   "outputs": [],
   "source": [
    "# Sélection manuelle\n",
    "appareil_apt = comports()[int(input('APT: '))]"
   ]
  },
  {
   "cell_type": "code",
   "execution_count": 5,
   "id": "a0a7354c-5446-4933-996c-2c30825e2037",
   "metadata": {},
   "outputs": [],
   "source": [
    "# Sélection automatique\n",
    "motif_apt = 'APT Stepper Motor Controller'\n",
    "\n",
    "appareil_apt = next(filter(lambda x: motif_apt in str(x), comports()))"
   ]
  },
  {
   "cell_type": "code",
   "execution_count": 6,
   "id": "7f2242c7",
   "metadata": {
    "collapsed": false,
    "jupyter": {
     "outputs_hidden": false
    }
   },
   "outputs": [],
   "source": [
    "numéro_série = \"40219394\" # Pour l'appareil spécifique qu'on utilise"
   ]
  },
  {
   "cell_type": "markdown",
   "id": "d883d5a7",
   "metadata": {},
   "source": [
    "# Essai avec la classe modifié"
   ]
  },
  {
   "cell_type": "code",
   "execution_count": 12,
   "id": "23e8d54b-4b11-46ec-9092-ad0f6c78d392",
   "metadata": {
    "collapsed": true,
    "jupyter": {
     "outputs_hidden": true
    },
    "tags": []
   },
   "outputs": [
    {
     "data": {
      "text/plain": [
       "['__class__',\n",
       " '__delattr__',\n",
       " '__dict__',\n",
       " '__dir__',\n",
       " '__doc__',\n",
       " '__eq__',\n",
       " '__format__',\n",
       " '__ge__',\n",
       " '__getattribute__',\n",
       " '__gt__',\n",
       " '__hash__',\n",
       " '__init__',\n",
       " '__init_subclass__',\n",
       " '__le__',\n",
       " '__lt__',\n",
       " '__module__',\n",
       " '__ne__',\n",
       " '__new__',\n",
       " '__reduce__',\n",
       " '__reduce_ex__',\n",
       " '__repr__',\n",
       " '__setattr__',\n",
       " '__sizeof__',\n",
       " '__str__',\n",
       " '__subclasshook__',\n",
       " '__weakref__',\n",
       " '_atexit',\n",
       " '_close_port',\n",
       " '_process_message',\n",
       " '_run_eventloop',\n",
       " '_schedule_keepalives',\n",
       " '_schedule_reads',\n",
       " '_schedule_updates',\n",
       " '_write',\n",
       " 'close',\n",
       " 'home',\n",
       " 'identify',\n",
       " 'move_absolute',\n",
       " 'move_jog',\n",
       " 'move_relative',\n",
       " 'move_velocity',\n",
       " 'register_error_callback',\n",
       " 'set_enabled',\n",
       " 'set_home_params',\n",
       " 'set_jog_params',\n",
       " 'set_loop_params',\n",
       " 'set_move_params',\n",
       " 'set_trigger',\n",
       " 'set_velocity_params',\n",
       " 'stop',\n",
       " 'unregister_error_callback']"
      ]
     },
     "execution_count": 12,
     "metadata": {},
     "output_type": "execute_result"
    }
   ],
   "source": [
    "dir(BSC201)"
   ]
  },
  {
   "cell_type": "code",
   "execution_count": 67,
   "id": "9bdca167",
   "metadata": {
    "collapsed": false,
    "jupyter": {
     "outputs_hidden": false
    }
   },
   "outputs": [],
   "source": [
    "# Basé sur https://thorlabs-apt-device.readthedocs.io/en/latest/api/thorlabs_apt_device.devices.bsc.html#thorlabs_apt_device.devices.bsc.BSC201\n",
    "class BSC201_HDR50(BSC201):\n",
    "    # Données tirées de Kinesis\n",
    "    kinesis = {'travel [pas]': 27_033_577,\n",
    "               'vel [pas/s]': 201_576_964,\n",
    "               'acc [pas/s²]': 20_653,\n",
    "               'jog_step [pas]': 37_547,\n",
    "               'jog_vel [pas/s]': 40_315_393,\n",
    "               'jog_acc [pas/s²]': 4_131,\n",
    "               'travel [°]': 360,\n",
    "               'vel [°/s]': 50,\n",
    "               'acc [°/s²]': 25,\n",
    "               'jog_step [°]': 0.5,\n",
    "               'jog_vel [°/s]': 10,\n",
    "               'jog_acc [°/s²]': 5}\n",
    "    \n",
    "    # Données tirées de https://www.thorlabs.com/drawings/8d6029bfe62e7acd-DF270E33-CE4C-A18B-8D52A70104946BCD/HDR50-Manual.pdf\n",
    "    manuel = {'travel [°]': 360,\n",
    "              'vel [°/s]': 50,\n",
    "              'acc [°/s²]': 80,\n",
    "              'macropas [°]': 1.8,\n",
    "              'micropas [1/macropas]': 2048,\n",
    "              'jog_step [pas]': kinesis['jog_step [pas]']}\n",
    "    manuel['micropas [°]'] = manuel['macropas [°]'] / manuel['micropas [1/macropas]']\n",
    "    manuel['travel [pas]'] = int( manuel['travel [°]'] / manuel['micropas [°]'] )\n",
    "    manuel['vel [pas/s]'] = int( manuel['vel [°/s]'] / manuel['micropas [°]'] )\n",
    "    manuel['acc [pas/s²]'] = int( manuel['acc [°/s²]'] / manuel['micropas [°]'] )\n",
    "    \n",
    "    def __init__(self,\n",
    "                 serial_port=None,\n",
    "                 vid=None,\n",
    "                 pid=None,\n",
    "                 manufacturer=None,\n",
    "                 product=None,\n",
    "                 serial_number='40',\n",
    "                 location=None,\n",
    "                 home=True,\n",
    "                 invert_direction_logic=False,\n",
    "                 swap_limit_switches=True,\n",
    "                 réglages=kinesis):\n",
    "        début = time.time()\n",
    "        super().__init__(serial_port=serial_port,\n",
    "                         vid=vid, pid=pid,\n",
    "                         manufacturer=manufacturer,\n",
    "                         product=product,\n",
    "                         serial_number=serial_number,\n",
    "                         location=location,\n",
    "                         home=home,\n",
    "                         invert_direction_logic=invert_direction_logic,\n",
    "                         swap_limit_switches=swap_limit_switches)\n",
    "    \n",
    "        # Initial velocity parameters are effectively zero on startup, set something more sensible\n",
    "        # Homing is initiated 1.0s after init, so hopefully these will take effect before then...\n",
    "        # Tiré de la source pour BSC201_DRV250\n",
    "        for bay_i, _ in enumerate(self.bays):\n",
    "            for channel_i, _ in enumerate(self.channels):\n",
    "                self.set_home_params(velocity=réglages['vel [pas/s]'],\n",
    "                                     offset_distance=0,\n",
    "                                     bay=bay_i,\n",
    "                                     channel=channel_i)\n",
    "                self.set_velocity_params(acceleration=réglages['acc [pas/s²]'],\n",
    "                                         max_velocity=réglages['vel [pas/s]'],\n",
    "                                         bay=bay_i,\n",
    "                                         channel=channel_i)\n",
    "                self.set_jog_params(size=réglages['jog_step [pas]'],\n",
    "                                    acceleration=réglages['jog_acc [pas/s²]'],\n",
    "                                    max_velocity=réglages['jog_vel [pas/s]'],\n",
    "                                    bay=bay_i,\n",
    "                                    channel=channel_i)\n",
    "                # Use open-loop positioning (only using stepper counts)\n",
    "                #self.set_loop_params(loop_mode=2, prop=50000, integral=5000, diff=100, pid_clip=16000000, pid_tol=80, encoder_const=4292282941, bay=bay_i, channel=channel_i)\n",
    "                self.set_loop_params(loop_mode=1, prop=0, integral=0, diff=0, pid_clip=0, pid_tol=0, encoder_const=0, bay=bay_i, channel=channel_i)\n",
    "        \n",
    "        délai = time.time() - début\n",
    "        if délai > 1:\n",
    "            print(f\"L'initialisation s'est faite trop lentement ({délai=}s).\")\n"
   ]
  },
  {
   "cell_type": "code",
   "execution_count": 58,
   "id": "dedc5129-29ad-4db0-86eb-7b694226cddc",
   "metadata": {
    "scrolled": true,
    "tags": []
   },
   "outputs": [],
   "source": [
    "stage.close()"
   ]
  },
  {
   "cell_type": "code",
   "execution_count": 75,
   "id": "2705aa11-2a99-44b0-9d20-7e5a29b39e71",
   "metadata": {
    "tags": []
   },
   "outputs": [],
   "source": [
    "stage = BSC201_HDR50()\n",
    "stage.identify() # La lumière sur le contrôleur externe devrait clignoter."
   ]
  },
  {
   "cell_type": "code",
   "execution_count": 18,
   "id": "f1c5bb55-c138-4a85-a0af-aa22a202e38e",
   "metadata": {
    "collapsed": true,
    "jupyter": {
     "outputs_hidden": true
    },
    "tags": []
   },
   "outputs": [
    {
     "data": {
      "text/plain": [
       "{'backlash_distance': 0,\n",
       " 'msg': 'mot_get_genmoveparams',\n",
       " 'msgid': 1084,\n",
       " 'source': 33,\n",
       " 'dest': 1,\n",
       " 'chan_ident': 1}"
      ]
     },
     "execution_count": 18,
     "metadata": {},
     "output_type": "execute_result"
    }
   ],
   "source": [
    "stage.genmoveparams"
   ]
  },
  {
   "cell_type": "code",
   "execution_count": 19,
   "id": "bbc8970e-79fe-4e6d-9705-ef574d2503b5",
   "metadata": {
    "collapsed": true,
    "jupyter": {
     "outputs_hidden": true
    },
    "tags": []
   },
   "outputs": [
    {
     "data": {
      "text/plain": [
       "{'home_dir': 2,\n",
       " 'limit_switch': 1,\n",
       " 'home_velocity': 201576964,\n",
       " 'offset_distance': 0,\n",
       " 'msg': 'mot_get_homeparams',\n",
       " 'msgid': 1090,\n",
       " 'dest': 1,\n",
       " 'source': 33,\n",
       " 'chan_ident': 1}"
      ]
     },
     "execution_count": 19,
     "metadata": {},
     "output_type": "execute_result"
    }
   ],
   "source": [
    "stage.homeparams"
   ]
  },
  {
   "cell_type": "code",
   "execution_count": 20,
   "id": "b152fd19-1ed6-43f3-8fb3-7055f6ad72ec",
   "metadata": {
    "collapsed": true,
    "jupyter": {
     "outputs_hidden": true
    },
    "tags": []
   },
   "outputs": [
    {
     "data": {
      "text/plain": [
       "{'jog_mode': 2,\n",
       " 'step_size': 37547,\n",
       " 'min_velocity': 0,\n",
       " 'acceleration': 4131,\n",
       " 'max_velocity': 40315393,\n",
       " 'stop_mode': 2,\n",
       " 'msg': 'mot_get_jogparams',\n",
       " 'msgid': 1048,\n",
       " 'source': 33,\n",
       " 'dest': 1,\n",
       " 'chan_ident': 1}"
      ]
     },
     "execution_count": 20,
     "metadata": {},
     "output_type": "execute_result"
    }
   ],
   "source": [
    "stage.jogparams"
   ]
  },
  {
   "cell_type": "code",
   "execution_count": 21,
   "id": "485de27d-289a-403f-b49a-85dafd303394",
   "metadata": {
    "collapsed": true,
    "jupyter": {
     "outputs_hidden": true
    },
    "tags": []
   },
   "outputs": [
    {
     "data": {
      "text/plain": [
       "{'min_velocity': 0,\n",
       " 'max_velocity': 201576964,\n",
       " 'acceleration': 20653,\n",
       " 'msg': 'mot_get_velparams',\n",
       " 'msgid': 1045,\n",
       " 'source': 33,\n",
       " 'dest': 1,\n",
       " 'chan_ident': 1}"
      ]
     },
     "execution_count": 21,
     "metadata": {},
     "output_type": "execute_result"
    }
   ],
   "source": [
    "stage.velparams"
   ]
  },
  {
   "cell_type": "code",
   "execution_count": 76,
   "id": "a785b8e8-092a-4372-9c72-b49e80589ee8",
   "metadata": {
    "collapsed": true,
    "jupyter": {
     "outputs_hidden": true
    },
    "tags": []
   },
   "outputs": [
    {
     "data": {
      "text/plain": [
       "{'position': 0,\n",
       " 'enc_count': 0,\n",
       " 'velocity': 0.0,\n",
       " 'forward_limit_switch': True,\n",
       " 'reverse_limit_switch': False,\n",
       " 'moving_forward': True,\n",
       " 'moving_reverse': False,\n",
       " 'jogging_forward': False,\n",
       " 'jogging_reverse': False,\n",
       " 'motor_connected': False,\n",
       " 'homing': True,\n",
       " 'homed': False,\n",
       " 'tracking': True,\n",
       " 'interlock': False,\n",
       " 'settled': False,\n",
       " 'motion_error': False,\n",
       " 'motor_current_limit_reached': False,\n",
       " 'channel_enabled': True,\n",
       " 'msg': 'mot_get_statusupdate',\n",
       " 'msgid': 1153,\n",
       " 'source': 33,\n",
       " 'dest': 1,\n",
       " 'chan_ident': 1,\n",
       " 'forward_limit_soft': False,\n",
       " 'reverse_limit_soft': False,\n",
       " 'initializing': False,\n",
       " 'instrument_error': False,\n",
       " 'overtemp': False,\n",
       " 'voltage_fault': False,\n",
       " 'commutation_error': False,\n",
       " 'digital_in_1': True,\n",
       " 'digital_in_2': False,\n",
       " 'digital_in_3': True,\n",
       " 'digital_in_4': False,\n",
       " 'encoder_fault': False,\n",
       " 'overcurrent': False,\n",
       " 'current_fault': False,\n",
       " 'power_ok': False,\n",
       " 'active': False,\n",
       " 'error': False}"
      ]
     },
     "execution_count": 76,
     "metadata": {},
     "output_type": "execute_result"
    }
   ],
   "source": [
    "stage.status"
   ]
  },
  {
   "cell_type": "code",
   "execution_count": 69,
   "id": "ca5c9074",
   "metadata": {
    "scrolled": true,
    "tags": []
   },
   "outputs": [],
   "source": [
    "stage.set_enabled(False)"
   ]
  },
  {
   "cell_type": "code",
   "execution_count": 70,
   "id": "6cd95f0e-c02b-46a1-ab06-977e4a6187a4",
   "metadata": {},
   "outputs": [],
   "source": [
    "stage.set_enabled(True)"
   ]
  },
  {
   "cell_type": "code",
   "execution_count": 62,
   "id": "be7046b1-116b-4b37-b554-a8669b0cb981",
   "metadata": {
    "tags": []
   },
   "outputs": [],
   "source": [
    "stage.home()"
   ]
  },
  {
   "cell_type": "code",
   "execution_count": 64,
   "id": "afa4eb62",
   "metadata": {
    "collapsed": false,
    "jupyter": {
     "outputs_hidden": false
    },
    "scrolled": true,
    "tags": []
   },
   "outputs": [],
   "source": [
    "stage.move_velocity(direction='forward')"
   ]
  },
  {
   "cell_type": "code",
   "execution_count": 33,
   "id": "3447b6a8-be02-4b54-8ef5-5d7059c6a0fb",
   "metadata": {},
   "outputs": [],
   "source": [
    "stage.move_velocity(direction='reverse')"
   ]
  },
  {
   "cell_type": "code",
   "execution_count": 71,
   "id": "a40341e4-ad8a-410c-89c0-99c0c72e3d3a",
   "metadata": {},
   "outputs": [],
   "source": [
    "stage.move_absolute(int( BSC201_HDR50.kinesis['travel [pas]'] // 4 ))"
   ]
  },
  {
   "cell_type": "code",
   "execution_count": 72,
   "id": "57573d3d-6f1f-417b-8bf2-752feb0aeb63",
   "metadata": {},
   "outputs": [],
   "source": [
    "stage.move_absolute(-int( BSC201_HDR50.kinesis['travel [pas]'] // 4 ))"
   ]
  },
  {
   "cell_type": "code",
   "execution_count": 39,
   "id": "08413841-8def-467e-a7f6-7e051ffe28c8",
   "metadata": {},
   "outputs": [],
   "source": [
    "stage.move_relative(int( BSC201_HDR50.kinesis['travel [pas]'] // 4 ))"
   ]
  },
  {
   "cell_type": "code",
   "execution_count": 41,
   "id": "6be1f76a-4057-4bc6-bdf1-1c4b15d09dd2",
   "metadata": {},
   "outputs": [],
   "source": [
    "stage.move_relative(int( BSC201_HDR50.kinesis['travel [pas]'] // 4 ))"
   ]
  },
  {
   "cell_type": "code",
   "execution_count": 77,
   "id": "4be69258-18de-4bf5-93fc-0fb655a69168",
   "metadata": {
    "scrolled": true,
    "tags": []
   },
   "outputs": [],
   "source": [
    "stage.stop()"
   ]
  },
  {
   "cell_type": "code",
   "execution_count": 78,
   "id": "e092eeb2",
   "metadata": {
    "collapsed": false,
    "jupyter": {
     "outputs_hidden": false
    }
   },
   "outputs": [],
   "source": [
    "stage.close()"
   ]
  },
  {
   "cell_type": "code",
   "execution_count": null,
   "id": "181fdd0e-75ae-46eb-b753-70273397fc97",
   "metadata": {},
   "outputs": [],
   "source": []
  }
 ],
 "metadata": {
  "kernelspec": {
   "display_name": "Python 3 (ipykernel)",
   "language": "python",
   "name": "python3"
  },
  "language_info": {
   "codemirror_mode": {
    "name": "ipython",
    "version": 3
   },
   "file_extension": ".py",
   "mimetype": "text/x-python",
   "name": "python",
   "nbconvert_exporter": "python",
   "pygments_lexer": "ipython3",
   "version": "3.8.10"
  }
 },
 "nbformat": 4,
 "nbformat_minor": 5
}
