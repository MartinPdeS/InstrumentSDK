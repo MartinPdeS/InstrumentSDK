{
 "cells": [
  {
   "cell_type": "code",
   "execution_count": 1,
   "id": "4df8d40b-9ad9-4899-92cb-4c00a7b074b3",
   "metadata": {},
   "outputs": [],
   "source": [
    "from thorlabs_apt_device.devices.bsc import BSC201"
   ]
  },
  {
   "cell_type": "code",
   "execution_count": 6,
   "id": "2ca2bf48-292d-40d9-818e-073e53e00e48",
   "metadata": {},
   "outputs": [],
   "source": [
    "import serial\n",
    "from serial.tools.list_ports import comports"
   ]
  },
  {
   "cell_type": "code",
   "execution_count": 7,
   "id": "f3b59c10-48bb-41dc-8e91-d285f0f1799e",
   "metadata": {},
   "outputs": [
    {
     "name": "stdout",
     "output_type": "stream",
     "text": [
      "COM1 - Port de communication (COM1)\n",
      "COM4 - USB Serial Port (COM4)\n"
     ]
    }
   ],
   "source": [
    "for p in comports():\n",
    "    print(p)"
   ]
  },
  {
   "cell_type": "code",
   "execution_count": 2,
   "id": "dc7bafe8-9382-4459-9dc1-9b1bb563541f",
   "metadata": {},
   "outputs": [],
   "source": [
    "# Basé sur https://thorlabs-apt-device.readthedocs.io/en/latest/api/thorlabs_apt_device.devices.bsc.html\n",
    "class BSC201_HDR50(BSC201):\n",
    "    \n",
    "    def __init__(self, serial_port=None, vid=None, pid=None, manufacturer=None, product=None, serial_number=\"40\", location=None, home=True, invert_direction_logic=False, swap_limit_switches=True):\n",
    "        super().__init__(serial_port=serial_port, vid=vid, pid=pid, manufacturer=manufacturer, product=product, serial_number=serial_number, location=location, home=home, invert_direction_logic=invert_direction_logic, swap_limit_switches=swap_limit_switches)\n",
    "    \n",
    "        # Initial velocity parameters are effectively zero on startup, set something more sensible\n",
    "        # Homing is initiated 1.0s after init, so hopefully these will take effect before then...\n",
    "        for bay_i, _ in enumerate(self.bays):\n",
    "            for channel_i, _ in enumerate(self.channels):\n",
    "                self.set_velocity_params(acceleration=4506, max_velocity=21987328, bay=bay_i, channel=channel_i)\n",
    "                self.set_jog_params(size=409600, acceleration=4506, max_velocity=21987328, bay=bay_i, channel=channel_i)\n",
    "                self.set_home_params(velocity=21987328, offset_distance=20480, bay=bay_i, channel=channel_i)"
   ]
  },
  {
   "cell_type": "code",
   "execution_count": 15,
   "id": "8aeac0c0-20f6-4d28-b482-5c9dbc0eeede",
   "metadata": {},
   "outputs": [
    {
     "ename": "RuntimeError",
     "evalue": "No Thorlabs APT devices detected matching the selected criteria.",
     "output_type": "error",
     "traceback": [
      "\u001b[1;31m---------------------------------------------------------------------------\u001b[0m",
      "\u001b[1;31mRuntimeError\u001b[0m                              Traceback (most recent call last)",
      "\u001b[1;32m~\\AppData\\Local\\Temp/ipykernel_12548/325548064.py\u001b[0m in \u001b[0;36m<module>\u001b[1;34m\u001b[0m\n\u001b[1;32m----> 1\u001b[1;33m \u001b[0mstage\u001b[0m \u001b[1;33m=\u001b[0m \u001b[0mBSC201_HDR50\u001b[0m\u001b[1;33m(\u001b[0m\u001b[0mserial_number\u001b[0m\u001b[1;33m=\u001b[0m\u001b[1;34m\"40219394\"\u001b[0m\u001b[1;33m)\u001b[0m\u001b[1;33m\u001b[0m\u001b[1;33m\u001b[0m\u001b[0m\n\u001b[0m",
      "\u001b[1;32m~\\AppData\\Local\\Temp/ipykernel_12548/923231362.py\u001b[0m in \u001b[0;36m__init__\u001b[1;34m(self, serial_port, vid, pid, manufacturer, product, serial_number, location, home, invert_direction_logic, swap_limit_switches)\u001b[0m\n\u001b[0;32m      3\u001b[0m \u001b[1;33m\u001b[0m\u001b[0m\n\u001b[0;32m      4\u001b[0m     \u001b[1;32mdef\u001b[0m \u001b[0m__init__\u001b[0m\u001b[1;33m(\u001b[0m\u001b[0mself\u001b[0m\u001b[1;33m,\u001b[0m \u001b[0mserial_port\u001b[0m\u001b[1;33m=\u001b[0m\u001b[1;32mNone\u001b[0m\u001b[1;33m,\u001b[0m \u001b[0mvid\u001b[0m\u001b[1;33m=\u001b[0m\u001b[1;32mNone\u001b[0m\u001b[1;33m,\u001b[0m \u001b[0mpid\u001b[0m\u001b[1;33m=\u001b[0m\u001b[1;32mNone\u001b[0m\u001b[1;33m,\u001b[0m \u001b[0mmanufacturer\u001b[0m\u001b[1;33m=\u001b[0m\u001b[1;32mNone\u001b[0m\u001b[1;33m,\u001b[0m \u001b[0mproduct\u001b[0m\u001b[1;33m=\u001b[0m\u001b[1;32mNone\u001b[0m\u001b[1;33m,\u001b[0m \u001b[0mserial_number\u001b[0m\u001b[1;33m=\u001b[0m\u001b[1;34m\"40\"\u001b[0m\u001b[1;33m,\u001b[0m \u001b[0mlocation\u001b[0m\u001b[1;33m=\u001b[0m\u001b[1;32mNone\u001b[0m\u001b[1;33m,\u001b[0m \u001b[0mhome\u001b[0m\u001b[1;33m=\u001b[0m\u001b[1;32mTrue\u001b[0m\u001b[1;33m,\u001b[0m \u001b[0minvert_direction_logic\u001b[0m\u001b[1;33m=\u001b[0m\u001b[1;32mFalse\u001b[0m\u001b[1;33m,\u001b[0m \u001b[0mswap_limit_switches\u001b[0m\u001b[1;33m=\u001b[0m\u001b[1;32mTrue\u001b[0m\u001b[1;33m)\u001b[0m\u001b[1;33m:\u001b[0m\u001b[1;33m\u001b[0m\u001b[1;33m\u001b[0m\u001b[0m\n\u001b[1;32m----> 5\u001b[1;33m         \u001b[0msuper\u001b[0m\u001b[1;33m(\u001b[0m\u001b[1;33m)\u001b[0m\u001b[1;33m.\u001b[0m\u001b[0m__init__\u001b[0m\u001b[1;33m(\u001b[0m\u001b[0mserial_port\u001b[0m\u001b[1;33m=\u001b[0m\u001b[0mserial_port\u001b[0m\u001b[1;33m,\u001b[0m \u001b[0mvid\u001b[0m\u001b[1;33m=\u001b[0m\u001b[0mvid\u001b[0m\u001b[1;33m,\u001b[0m \u001b[0mpid\u001b[0m\u001b[1;33m=\u001b[0m\u001b[0mpid\u001b[0m\u001b[1;33m,\u001b[0m \u001b[0mmanufacturer\u001b[0m\u001b[1;33m=\u001b[0m\u001b[0mmanufacturer\u001b[0m\u001b[1;33m,\u001b[0m \u001b[0mproduct\u001b[0m\u001b[1;33m=\u001b[0m\u001b[0mproduct\u001b[0m\u001b[1;33m,\u001b[0m \u001b[0mserial_number\u001b[0m\u001b[1;33m=\u001b[0m\u001b[0mserial_number\u001b[0m\u001b[1;33m,\u001b[0m \u001b[0mlocation\u001b[0m\u001b[1;33m=\u001b[0m\u001b[0mlocation\u001b[0m\u001b[1;33m,\u001b[0m \u001b[0mhome\u001b[0m\u001b[1;33m=\u001b[0m\u001b[0mhome\u001b[0m\u001b[1;33m,\u001b[0m \u001b[0minvert_direction_logic\u001b[0m\u001b[1;33m=\u001b[0m\u001b[0minvert_direction_logic\u001b[0m\u001b[1;33m,\u001b[0m \u001b[0mswap_limit_switches\u001b[0m\u001b[1;33m=\u001b[0m\u001b[0mswap_limit_switches\u001b[0m\u001b[1;33m)\u001b[0m\u001b[1;33m\u001b[0m\u001b[1;33m\u001b[0m\u001b[0m\n\u001b[0m\u001b[0;32m      6\u001b[0m \u001b[1;33m\u001b[0m\u001b[0m\n\u001b[0;32m      7\u001b[0m         \u001b[1;31m# Initial velocity parameters are effectively zero on startup, set something more sensible\u001b[0m\u001b[1;33m\u001b[0m\u001b[1;33m\u001b[0m\u001b[1;33m\u001b[0m\u001b[0m\n",
      "\u001b[1;32mC:\\ProgramData\\Anaconda3\\envs\\py39_gonio\\lib\\site-packages\\thorlabs_apt_device\\devices\\bsc.py\u001b[0m in \u001b[0;36m__init__\u001b[1;34m(self, serial_port, vid, pid, manufacturer, product, serial_number, location, home, invert_direction_logic, swap_limit_switches)\u001b[0m\n\u001b[0;32m     50\u001b[0m     \u001b[1;32mdef\u001b[0m \u001b[0m__init__\u001b[0m\u001b[1;33m(\u001b[0m\u001b[0mself\u001b[0m\u001b[1;33m,\u001b[0m \u001b[0mserial_port\u001b[0m\u001b[1;33m=\u001b[0m\u001b[1;32mNone\u001b[0m\u001b[1;33m,\u001b[0m \u001b[0mvid\u001b[0m\u001b[1;33m=\u001b[0m\u001b[1;32mNone\u001b[0m\u001b[1;33m,\u001b[0m \u001b[0mpid\u001b[0m\u001b[1;33m=\u001b[0m\u001b[1;32mNone\u001b[0m\u001b[1;33m,\u001b[0m \u001b[0mmanufacturer\u001b[0m\u001b[1;33m=\u001b[0m\u001b[1;32mNone\u001b[0m\u001b[1;33m,\u001b[0m \u001b[0mproduct\u001b[0m\u001b[1;33m=\u001b[0m\u001b[1;32mNone\u001b[0m\u001b[1;33m,\u001b[0m \u001b[0mserial_number\u001b[0m\u001b[1;33m=\u001b[0m\u001b[1;34m\"40\"\u001b[0m\u001b[1;33m,\u001b[0m \u001b[0mlocation\u001b[0m\u001b[1;33m=\u001b[0m\u001b[1;32mNone\u001b[0m\u001b[1;33m,\u001b[0m \u001b[0mhome\u001b[0m\u001b[1;33m=\u001b[0m\u001b[1;32mTrue\u001b[0m\u001b[1;33m,\u001b[0m \u001b[0minvert_direction_logic\u001b[0m\u001b[1;33m=\u001b[0m\u001b[1;32mFalse\u001b[0m\u001b[1;33m,\u001b[0m \u001b[0mswap_limit_switches\u001b[0m\u001b[1;33m=\u001b[0m\u001b[1;32mTrue\u001b[0m\u001b[1;33m)\u001b[0m\u001b[1;33m:\u001b[0m\u001b[1;33m\u001b[0m\u001b[1;33m\u001b[0m\u001b[0m\n\u001b[0;32m     51\u001b[0m \u001b[1;33m\u001b[0m\u001b[0m\n\u001b[1;32m---> 52\u001b[1;33m         \u001b[0msuper\u001b[0m\u001b[1;33m(\u001b[0m\u001b[1;33m)\u001b[0m\u001b[1;33m.\u001b[0m\u001b[0m__init__\u001b[0m\u001b[1;33m(\u001b[0m\u001b[0mserial_port\u001b[0m\u001b[1;33m=\u001b[0m\u001b[0mserial_port\u001b[0m\u001b[1;33m,\u001b[0m \u001b[0mvid\u001b[0m\u001b[1;33m=\u001b[0m\u001b[0mvid\u001b[0m\u001b[1;33m,\u001b[0m \u001b[0mpid\u001b[0m\u001b[1;33m=\u001b[0m\u001b[0mpid\u001b[0m\u001b[1;33m,\u001b[0m \u001b[0mmanufacturer\u001b[0m\u001b[1;33m=\u001b[0m\u001b[0mmanufacturer\u001b[0m\u001b[1;33m,\u001b[0m \u001b[0mproduct\u001b[0m\u001b[1;33m=\u001b[0m\u001b[0mproduct\u001b[0m\u001b[1;33m,\u001b[0m \u001b[0mserial_number\u001b[0m\u001b[1;33m=\u001b[0m\u001b[0mserial_number\u001b[0m\u001b[1;33m,\u001b[0m \u001b[0mlocation\u001b[0m\u001b[1;33m=\u001b[0m\u001b[0mlocation\u001b[0m\u001b[1;33m,\u001b[0m \u001b[0mx\u001b[0m\u001b[1;33m=\u001b[0m\u001b[1;36m1\u001b[0m\u001b[1;33m,\u001b[0m \u001b[0mhome\u001b[0m\u001b[1;33m=\u001b[0m\u001b[0mhome\u001b[0m\u001b[1;33m,\u001b[0m \u001b[0minvert_direction_logic\u001b[0m\u001b[1;33m=\u001b[0m\u001b[0minvert_direction_logic\u001b[0m\u001b[1;33m,\u001b[0m \u001b[0mswap_limit_switches\u001b[0m\u001b[1;33m=\u001b[0m\u001b[0mswap_limit_switches\u001b[0m\u001b[1;33m,\u001b[0m \u001b[0mstatus_updates\u001b[0m\u001b[1;33m=\u001b[0m\u001b[1;34m\"polled\"\u001b[0m\u001b[1;33m)\u001b[0m\u001b[1;33m\u001b[0m\u001b[1;33m\u001b[0m\u001b[0m\n\u001b[0m\u001b[0;32m     53\u001b[0m \u001b[1;33m\u001b[0m\u001b[0m\n\u001b[0;32m     54\u001b[0m \u001b[1;33m\u001b[0m\u001b[0m\n",
      "\u001b[1;32mC:\\ProgramData\\Anaconda3\\envs\\py39_gonio\\lib\\site-packages\\thorlabs_apt_device\\devices\\aptdevice_motor.py\u001b[0m in \u001b[0;36m__init__\u001b[1;34m(self, serial_port, vid, pid, manufacturer, product, serial_number, location, x, home, invert_direction_logic, swap_limit_switches, status_updates)\u001b[0m\n\u001b[0;32m    765\u001b[0m             \u001b[0mbays\u001b[0m \u001b[1;33m=\u001b[0m \u001b[1;33m(\u001b[0m\u001b[0mEndPoint\u001b[0m\u001b[1;33m.\u001b[0m\u001b[0mBAY0\u001b[0m\u001b[1;33m,\u001b[0m\u001b[1;33m)\u001b[0m\u001b[1;33m\u001b[0m\u001b[1;33m\u001b[0m\u001b[0m\n\u001b[0;32m    766\u001b[0m \u001b[1;33m\u001b[0m\u001b[0m\n\u001b[1;32m--> 767\u001b[1;33m         \u001b[0msuper\u001b[0m\u001b[1;33m(\u001b[0m\u001b[1;33m)\u001b[0m\u001b[1;33m.\u001b[0m\u001b[0m__init__\u001b[0m\u001b[1;33m(\u001b[0m\u001b[0mserial_port\u001b[0m\u001b[1;33m=\u001b[0m\u001b[0mserial_port\u001b[0m\u001b[1;33m,\u001b[0m \u001b[0mvid\u001b[0m\u001b[1;33m=\u001b[0m\u001b[0mvid\u001b[0m\u001b[1;33m,\u001b[0m \u001b[0mpid\u001b[0m\u001b[1;33m=\u001b[0m\u001b[0mpid\u001b[0m\u001b[1;33m,\u001b[0m \u001b[0mmanufacturer\u001b[0m\u001b[1;33m=\u001b[0m\u001b[0mmanufacturer\u001b[0m\u001b[1;33m,\u001b[0m \u001b[0mproduct\u001b[0m\u001b[1;33m=\u001b[0m\u001b[0mproduct\u001b[0m\u001b[1;33m,\u001b[0m \u001b[0mserial_number\u001b[0m\u001b[1;33m=\u001b[0m\u001b[0mserial_number\u001b[0m\u001b[1;33m,\u001b[0m \u001b[0mlocation\u001b[0m\u001b[1;33m=\u001b[0m\u001b[0mlocation\u001b[0m\u001b[1;33m,\u001b[0m \u001b[0mhome\u001b[0m\u001b[1;33m=\u001b[0m\u001b[0mhome\u001b[0m\u001b[1;33m,\u001b[0m \u001b[0minvert_direction_logic\u001b[0m\u001b[1;33m=\u001b[0m\u001b[0minvert_direction_logic\u001b[0m\u001b[1;33m,\u001b[0m \u001b[0mswap_limit_switches\u001b[0m\u001b[1;33m=\u001b[0m\u001b[0mswap_limit_switches\u001b[0m\u001b[1;33m,\u001b[0m \u001b[0mstatus_updates\u001b[0m\u001b[1;33m=\u001b[0m\u001b[0mstatus_updates\u001b[0m\u001b[1;33m,\u001b[0m \u001b[0mcontroller\u001b[0m\u001b[1;33m=\u001b[0m\u001b[0mEndPoint\u001b[0m\u001b[1;33m.\u001b[0m\u001b[0mRACK\u001b[0m\u001b[1;33m,\u001b[0m \u001b[0mbays\u001b[0m\u001b[1;33m=\u001b[0m\u001b[0mbays\u001b[0m\u001b[1;33m,\u001b[0m \u001b[0mchannels\u001b[0m\u001b[1;33m=\u001b[0m\u001b[1;33m(\u001b[0m\u001b[1;36m1\u001b[0m\u001b[1;33m,\u001b[0m\u001b[1;33m)\u001b[0m\u001b[1;33m)\u001b[0m\u001b[1;33m\u001b[0m\u001b[1;33m\u001b[0m\u001b[0m\n\u001b[0m\u001b[0;32m    768\u001b[0m \u001b[1;33m\u001b[0m\u001b[0m\n\u001b[0;32m    769\u001b[0m         \u001b[1;32mif\u001b[0m \u001b[0mx\u001b[0m \u001b[1;33m==\u001b[0m \u001b[1;36m1\u001b[0m\u001b[1;33m:\u001b[0m\u001b[1;33m\u001b[0m\u001b[1;33m\u001b[0m\u001b[0m\n",
      "\u001b[1;32mC:\\ProgramData\\Anaconda3\\envs\\py39_gonio\\lib\\site-packages\\thorlabs_apt_device\\devices\\aptdevice_motor.py\u001b[0m in \u001b[0;36m__init__\u001b[1;34m(self, serial_port, vid, pid, manufacturer, product, serial_number, location, home, invert_direction_logic, swap_limit_switches, status_updates, controller, bays, channels)\u001b[0m\n\u001b[0;32m    543\u001b[0m     \u001b[1;32mdef\u001b[0m \u001b[0m__init__\u001b[0m\u001b[1;33m(\u001b[0m\u001b[0mself\u001b[0m\u001b[1;33m,\u001b[0m \u001b[0mserial_port\u001b[0m\u001b[1;33m=\u001b[0m\u001b[1;32mNone\u001b[0m\u001b[1;33m,\u001b[0m \u001b[0mvid\u001b[0m\u001b[1;33m=\u001b[0m\u001b[1;32mNone\u001b[0m\u001b[1;33m,\u001b[0m \u001b[0mpid\u001b[0m\u001b[1;33m=\u001b[0m\u001b[1;32mNone\u001b[0m\u001b[1;33m,\u001b[0m \u001b[0mmanufacturer\u001b[0m\u001b[1;33m=\u001b[0m\u001b[1;32mNone\u001b[0m\u001b[1;33m,\u001b[0m \u001b[0mproduct\u001b[0m\u001b[1;33m=\u001b[0m\u001b[1;32mNone\u001b[0m\u001b[1;33m,\u001b[0m \u001b[0mserial_number\u001b[0m\u001b[1;33m=\u001b[0m\u001b[1;32mNone\u001b[0m\u001b[1;33m,\u001b[0m \u001b[0mlocation\u001b[0m\u001b[1;33m=\u001b[0m\u001b[1;32mNone\u001b[0m\u001b[1;33m,\u001b[0m \u001b[0mhome\u001b[0m\u001b[1;33m=\u001b[0m\u001b[1;32mTrue\u001b[0m\u001b[1;33m,\u001b[0m \u001b[0minvert_direction_logic\u001b[0m\u001b[1;33m=\u001b[0m\u001b[1;32mFalse\u001b[0m\u001b[1;33m,\u001b[0m \u001b[0mswap_limit_switches\u001b[0m\u001b[1;33m=\u001b[0m\u001b[1;32mFalse\u001b[0m\u001b[1;33m,\u001b[0m \u001b[0mstatus_updates\u001b[0m\u001b[1;33m=\u001b[0m\u001b[1;34m\"none\"\u001b[0m\u001b[1;33m,\u001b[0m \u001b[0mcontroller\u001b[0m\u001b[1;33m=\u001b[0m\u001b[0mEndPoint\u001b[0m\u001b[1;33m.\u001b[0m\u001b[0mRACK\u001b[0m\u001b[1;33m,\u001b[0m \u001b[0mbays\u001b[0m\u001b[1;33m=\u001b[0m\u001b[1;33m(\u001b[0m\u001b[0mEndPoint\u001b[0m\u001b[1;33m.\u001b[0m\u001b[0mBAY0\u001b[0m\u001b[1;33m,\u001b[0m\u001b[1;33m)\u001b[0m\u001b[1;33m,\u001b[0m \u001b[0mchannels\u001b[0m\u001b[1;33m=\u001b[0m\u001b[1;33m(\u001b[0m\u001b[1;36m1\u001b[0m\u001b[1;33m,\u001b[0m\u001b[1;33m)\u001b[0m\u001b[1;33m)\u001b[0m\u001b[1;33m:\u001b[0m\u001b[1;33m\u001b[0m\u001b[1;33m\u001b[0m\u001b[0m\n\u001b[0;32m    544\u001b[0m \u001b[1;33m\u001b[0m\u001b[0m\n\u001b[1;32m--> 545\u001b[1;33m         \u001b[0msuper\u001b[0m\u001b[1;33m(\u001b[0m\u001b[1;33m)\u001b[0m\u001b[1;33m.\u001b[0m\u001b[0m__init__\u001b[0m\u001b[1;33m(\u001b[0m\u001b[0mserial_port\u001b[0m\u001b[1;33m=\u001b[0m\u001b[0mserial_port\u001b[0m\u001b[1;33m,\u001b[0m \u001b[0mvid\u001b[0m\u001b[1;33m=\u001b[0m\u001b[0mvid\u001b[0m\u001b[1;33m,\u001b[0m \u001b[0mpid\u001b[0m\u001b[1;33m=\u001b[0m\u001b[0mpid\u001b[0m\u001b[1;33m,\u001b[0m \u001b[0mmanufacturer\u001b[0m\u001b[1;33m=\u001b[0m\u001b[0mmanufacturer\u001b[0m\u001b[1;33m,\u001b[0m \u001b[0mproduct\u001b[0m\u001b[1;33m=\u001b[0m\u001b[0mproduct\u001b[0m\u001b[1;33m,\u001b[0m \u001b[0mserial_number\u001b[0m\u001b[1;33m=\u001b[0m\u001b[0mserial_number\u001b[0m\u001b[1;33m,\u001b[0m \u001b[0mlocation\u001b[0m\u001b[1;33m=\u001b[0m\u001b[0mlocation\u001b[0m\u001b[1;33m,\u001b[0m \u001b[0mhome\u001b[0m\u001b[1;33m=\u001b[0m\u001b[0mhome\u001b[0m\u001b[1;33m,\u001b[0m \u001b[0minvert_direction_logic\u001b[0m\u001b[1;33m=\u001b[0m\u001b[0minvert_direction_logic\u001b[0m\u001b[1;33m,\u001b[0m \u001b[0mswap_limit_switches\u001b[0m\u001b[1;33m=\u001b[0m\u001b[0mswap_limit_switches\u001b[0m\u001b[1;33m,\u001b[0m \u001b[0mstatus_updates\u001b[0m\u001b[1;33m=\u001b[0m\u001b[0mstatus_updates\u001b[0m\u001b[1;33m,\u001b[0m \u001b[0mcontroller\u001b[0m\u001b[1;33m=\u001b[0m\u001b[0mEndPoint\u001b[0m\u001b[1;33m.\u001b[0m\u001b[0mRACK\u001b[0m\u001b[1;33m,\u001b[0m \u001b[0mbays\u001b[0m\u001b[1;33m=\u001b[0m\u001b[0mbays\u001b[0m\u001b[1;33m,\u001b[0m \u001b[0mchannels\u001b[0m\u001b[1;33m=\u001b[0m\u001b[1;33m(\u001b[0m\u001b[1;36m1\u001b[0m\u001b[1;33m,\u001b[0m\u001b[1;33m)\u001b[0m\u001b[1;33m)\u001b[0m\u001b[1;33m\u001b[0m\u001b[1;33m\u001b[0m\u001b[0m\n\u001b[0m\u001b[0;32m    546\u001b[0m \u001b[1;33m\u001b[0m\u001b[0m\n\u001b[0;32m    547\u001b[0m         self.trigger_ = [[{\n",
      "\u001b[1;32mC:\\ProgramData\\Anaconda3\\envs\\py39_gonio\\lib\\site-packages\\thorlabs_apt_device\\devices\\aptdevice_motor.py\u001b[0m in \u001b[0;36m__init__\u001b[1;34m(self, serial_port, vid, pid, manufacturer, product, serial_number, location, home, invert_direction_logic, swap_limit_switches, status_updates, controller, bays, channels)\u001b[0m\n\u001b[0;32m     42\u001b[0m     \u001b[1;32mdef\u001b[0m \u001b[0m__init__\u001b[0m\u001b[1;33m(\u001b[0m\u001b[0mself\u001b[0m\u001b[1;33m,\u001b[0m \u001b[0mserial_port\u001b[0m\u001b[1;33m=\u001b[0m\u001b[1;32mNone\u001b[0m\u001b[1;33m,\u001b[0m \u001b[0mvid\u001b[0m\u001b[1;33m=\u001b[0m\u001b[1;32mNone\u001b[0m\u001b[1;33m,\u001b[0m \u001b[0mpid\u001b[0m\u001b[1;33m=\u001b[0m\u001b[1;32mNone\u001b[0m\u001b[1;33m,\u001b[0m \u001b[0mmanufacturer\u001b[0m\u001b[1;33m=\u001b[0m\u001b[1;32mNone\u001b[0m\u001b[1;33m,\u001b[0m \u001b[0mproduct\u001b[0m\u001b[1;33m=\u001b[0m\u001b[1;32mNone\u001b[0m\u001b[1;33m,\u001b[0m \u001b[0mserial_number\u001b[0m\u001b[1;33m=\u001b[0m\u001b[1;32mNone\u001b[0m\u001b[1;33m,\u001b[0m \u001b[0mlocation\u001b[0m\u001b[1;33m=\u001b[0m\u001b[1;32mNone\u001b[0m\u001b[1;33m,\u001b[0m \u001b[0mhome\u001b[0m\u001b[1;33m=\u001b[0m\u001b[1;32mTrue\u001b[0m\u001b[1;33m,\u001b[0m \u001b[0minvert_direction_logic\u001b[0m\u001b[1;33m=\u001b[0m\u001b[1;32mFalse\u001b[0m\u001b[1;33m,\u001b[0m \u001b[0mswap_limit_switches\u001b[0m\u001b[1;33m=\u001b[0m\u001b[1;32mFalse\u001b[0m\u001b[1;33m,\u001b[0m \u001b[0mstatus_updates\u001b[0m\u001b[1;33m=\u001b[0m\u001b[1;34m\"none\"\u001b[0m\u001b[1;33m,\u001b[0m \u001b[0mcontroller\u001b[0m\u001b[1;33m=\u001b[0m\u001b[0mEndPoint\u001b[0m\u001b[1;33m.\u001b[0m\u001b[0mRACK\u001b[0m\u001b[1;33m,\u001b[0m \u001b[0mbays\u001b[0m\u001b[1;33m=\u001b[0m\u001b[1;33m(\u001b[0m\u001b[0mEndPoint\u001b[0m\u001b[1;33m.\u001b[0m\u001b[0mBAY0\u001b[0m\u001b[1;33m,\u001b[0m\u001b[1;33m)\u001b[0m\u001b[1;33m,\u001b[0m \u001b[0mchannels\u001b[0m\u001b[1;33m=\u001b[0m\u001b[1;33m(\u001b[0m\u001b[1;36m1\u001b[0m\u001b[1;33m,\u001b[0m\u001b[1;33m)\u001b[0m\u001b[1;33m)\u001b[0m\u001b[1;33m:\u001b[0m\u001b[1;33m\u001b[0m\u001b[1;33m\u001b[0m\u001b[0m\n\u001b[0;32m     43\u001b[0m \u001b[1;33m\u001b[0m\u001b[0m\n\u001b[1;32m---> 44\u001b[1;33m         \u001b[0msuper\u001b[0m\u001b[1;33m(\u001b[0m\u001b[1;33m)\u001b[0m\u001b[1;33m.\u001b[0m\u001b[0m__init__\u001b[0m\u001b[1;33m(\u001b[0m\u001b[0mserial_port\u001b[0m\u001b[1;33m=\u001b[0m\u001b[0mserial_port\u001b[0m\u001b[1;33m,\u001b[0m \u001b[0mvid\u001b[0m\u001b[1;33m=\u001b[0m\u001b[0mvid\u001b[0m\u001b[1;33m,\u001b[0m \u001b[0mpid\u001b[0m\u001b[1;33m=\u001b[0m\u001b[0mpid\u001b[0m\u001b[1;33m,\u001b[0m \u001b[0mmanufacturer\u001b[0m\u001b[1;33m=\u001b[0m\u001b[0mmanufacturer\u001b[0m\u001b[1;33m,\u001b[0m \u001b[0mproduct\u001b[0m\u001b[1;33m=\u001b[0m\u001b[0mproduct\u001b[0m\u001b[1;33m,\u001b[0m \u001b[0mserial_number\u001b[0m\u001b[1;33m=\u001b[0m\u001b[0mserial_number\u001b[0m\u001b[1;33m,\u001b[0m \u001b[0mlocation\u001b[0m\u001b[1;33m=\u001b[0m\u001b[0mlocation\u001b[0m\u001b[1;33m,\u001b[0m \u001b[0mcontroller\u001b[0m\u001b[1;33m=\u001b[0m\u001b[0mcontroller\u001b[0m\u001b[1;33m,\u001b[0m \u001b[0mbays\u001b[0m\u001b[1;33m=\u001b[0m\u001b[0mbays\u001b[0m\u001b[1;33m,\u001b[0m \u001b[0mchannels\u001b[0m\u001b[1;33m=\u001b[0m\u001b[0mchannels\u001b[0m\u001b[1;33m,\u001b[0m \u001b[0mstatus_updates\u001b[0m\u001b[1;33m=\u001b[0m\u001b[0mstatus_updates\u001b[0m\u001b[1;33m)\u001b[0m\u001b[1;33m\u001b[0m\u001b[1;33m\u001b[0m\u001b[0m\n\u001b[0m\u001b[0;32m     45\u001b[0m \u001b[1;33m\u001b[0m\u001b[0m\n\u001b[0;32m     46\u001b[0m         \u001b[0mself\u001b[0m\u001b[1;33m.\u001b[0m\u001b[0minvert_direction_logic\u001b[0m \u001b[1;33m=\u001b[0m \u001b[0minvert_direction_logic\u001b[0m\u001b[1;33m\u001b[0m\u001b[1;33m\u001b[0m\u001b[0m\n",
      "\u001b[1;32mC:\\ProgramData\\Anaconda3\\envs\\py39_gonio\\lib\\site-packages\\thorlabs_apt_device\\devices\\aptdevice.py\u001b[0m in \u001b[0;36m__init__\u001b[1;34m(self, serial_port, vid, pid, manufacturer, product, serial_number, location, controller, bays, channels, status_updates)\u001b[0m\n\u001b[0;32m     76\u001b[0m \u001b[1;33m\u001b[0m\u001b[0m\n\u001b[0;32m     77\u001b[0m         \u001b[1;32mif\u001b[0m \u001b[0mserial_port\u001b[0m \u001b[1;32mis\u001b[0m \u001b[1;32mNone\u001b[0m\u001b[1;33m:\u001b[0m\u001b[1;33m\u001b[0m\u001b[1;33m\u001b[0m\u001b[0m\n\u001b[1;32m---> 78\u001b[1;33m             \u001b[1;32mraise\u001b[0m \u001b[0mRuntimeError\u001b[0m\u001b[1;33m(\u001b[0m\u001b[1;34m\"No Thorlabs APT devices detected matching the selected criteria.\"\u001b[0m\u001b[1;33m)\u001b[0m\u001b[1;33m\u001b[0m\u001b[1;33m\u001b[0m\u001b[0m\n\u001b[0m\u001b[0;32m     79\u001b[0m \u001b[1;33m\u001b[0m\u001b[0m\n\u001b[0;32m     80\u001b[0m         \u001b[0mself\u001b[0m\u001b[1;33m.\u001b[0m\u001b[0m_log\u001b[0m \u001b[1;33m=\u001b[0m \u001b[0mlogging\u001b[0m\u001b[1;33m.\u001b[0m\u001b[0mgetLogger\u001b[0m\u001b[1;33m(\u001b[0m\u001b[0m__name__\u001b[0m\u001b[1;33m)\u001b[0m\u001b[1;33m\u001b[0m\u001b[1;33m\u001b[0m\u001b[0m\n",
      "\u001b[1;31mRuntimeError\u001b[0m: No Thorlabs APT devices detected matching the selected criteria."
     ]
    }
   ],
   "source": [
    "stage = BSC201_HDR50(serial_number=\"40219394\")"
   ]
  },
  {
   "cell_type": "code",
   "execution_count": 9,
   "id": "dcf41eac-365a-4285-b256-49041ff85058",
   "metadata": {},
   "outputs": [],
   "source": [
    "stage.identify()"
   ]
  },
  {
   "cell_type": "code",
   "execution_count": 10,
   "id": "b8ec6edf-9248-458b-be05-36692fe57442",
   "metadata": {},
   "outputs": [],
   "source": [
    "stage.move_relative(20000)"
   ]
  },
  {
   "cell_type": "code",
   "execution_count": null,
   "id": "795dbc26-c297-461f-9827-859e71b01b20",
   "metadata": {},
   "outputs": [],
   "source": []
  }
 ],
 "metadata": {
  "kernelspec": {
   "display_name": "Python 3 (ipykernel)",
   "language": "python",
   "name": "python3"
  },
  "language_info": {
   "codemirror_mode": {
    "name": "ipython",
    "version": 3
   },
   "file_extension": ".py",
   "mimetype": "text/x-python",
   "name": "python",
   "nbconvert_exporter": "python",
   "pygments_lexer": "ipython3",
   "version": "3.9.6"
  }
 },
 "nbformat": 4,
 "nbformat_minor": 5
}
