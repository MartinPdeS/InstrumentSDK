{
 "cells": [
  {
   "cell_type": "code",
   "execution_count": 3,
   "id": "4df8d40b-9ad9-4899-92cb-4c00a7b074b3",
   "metadata": {},
   "outputs": [],
   "source": [
    "from thorlabs_apt_device.devices.bsc import BSC201"
   ]
  },
  {
   "cell_type": "code",
   "execution_count": 5,
   "id": "dc7bafe8-9382-4459-9dc1-9b1bb563541f",
   "metadata": {},
   "outputs": [],
   "source": [
    "# Basé sur https://thorlabs-apt-device.readthedocs.io/en/latest/api/thorlabs_apt_device.devices.bsc.html\n",
    "class BSC201_HDR50(BSC201):\n",
    "    \n",
    "    def __init__(self, serial_port=None, vid=None, pid=None, manufacturer=None, product=None, serial_number=\"40\", location=None, home=True, invert_direction_logic=False, swap_limit_switches=True):\n",
    "        super().__init__(serial_port=serial_port, vid=vid, pid=pid, manufacturer=manufacturer, product=product, serial_number=serial_number, location=location, home=home, invert_direction_logic=invert_direction_logic, swap_limit_switches=swap_limit_switches)"
   ]
  },
  {
   "cell_type": "code",
   "execution_count": null,
   "id": "c93f4bc2-98ee-4bf4-9ae5-fc675ca14ea3",
   "metadata": {},
   "outputs": [],
   "source": [
    "# Initial velocity parameters are effectively zero on startup, set something more sensible\n",
    "        # Homing is initiated 1.0s after init, so hopefully these will take effect before then...\n",
    "        for bay_i, _ in enumerate(self.bays):\n",
    "            for channel_i, _ in enumerate(self.channels):\n",
    "                self.set_velocity_params(acceleration=4506, max_velocity=21987328, bay=bay_i, channel=channel_i)\n",
    "                self.set_jog_params(size=409600, acceleration=4506, max_velocity=21987328, bay=bay_i, channel=channel_i)\n",
    "                self.set_home_params(velocity=21987328, offset_distance=20480, bay=bay_i, channel=channel_i)\n"
   ]
  }
 ],
 "metadata": {
  "kernelspec": {
   "display_name": "Python 3 (ipykernel)",
   "language": "python",
   "name": "python3"
  },
  "language_info": {
   "codemirror_mode": {
    "name": "ipython",
    "version": 3
   },
   "file_extension": ".py",
   "mimetype": "text/x-python",
   "name": "python",
   "nbconvert_exporter": "python",
   "pygments_lexer": "ipython3",
   "version": "3.9.6"
  }
 },
 "nbformat": 4,
 "nbformat_minor": 5
}
