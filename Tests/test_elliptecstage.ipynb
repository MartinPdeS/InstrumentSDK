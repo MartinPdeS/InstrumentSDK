{
 "cells": [
  {
   "cell_type": "code",
   "execution_count": 1,
   "id": "99e85b66-9b3e-49fd-b40e-da48647421d5",
   "metadata": {},
   "outputs": [],
   "source": [
    "import serial\n",
    "from serial.tools.list_ports import comports"
   ]
  },
  {
   "cell_type": "code",
   "execution_count": 2,
   "id": "c38a5166-acd3-4e58-a148-f8664f0a25d9",
   "metadata": {},
   "outputs": [
    {
     "name": "stdout",
     "output_type": "stream",
     "text": [
      "/dev/ttyS0 - ttyS0 None None\n",
      "/dev/ttyUSB1 - FT230X Basic UART - FT230X Basic UART DK0AFXYO /sys/devices/pci0000:00/0000:00:14.0/usb3/3-14/3-14:1.0\n",
      "/dev/ttyUSB0 - APT Stepper Motor Controller - APT Stepper Motor Controller 40219394 /sys/devices/pci0000:00/0000:00:14.0/usb3/3-13/3-13:1.0\n"
     ]
    }
   ],
   "source": [
    "for p in comports():\n",
    "    print(p, p.serial_number, p.usb_interface_path)"
   ]
  },
  {
   "cell_type": "code",
   "execution_count": 3,
   "id": "e920a629-2e14-4bc5-b73f-471bc909b423",
   "metadata": {},
   "outputs": [],
   "source": [
    "from elliptecstage.elliptecstage import ElloStage"
   ]
  },
  {
   "cell_type": "code",
   "execution_count": 4,
   "id": "f5b39f51",
   "metadata": {},
   "outputs": [],
   "source": [
    "com = serial.Serial('/dev/ttyUSB1')"
   ]
  },
  {
   "cell_type": "code",
   "execution_count": 5,
   "id": "9ee65fa3-bc70-4560-9e24-e9dd892f46f8",
   "metadata": {},
   "outputs": [],
   "source": [
    "stage0 = ElloStage(com, 0)\n",
    "stage1 = ElloStage(com, 1)\n",
    "stage2 = ElloStage(com, 2)"
   ]
  },
  {
   "cell_type": "code",
   "execution_count": 6,
   "id": "e51c8aea-7947-414f-bfd4-728f1595d1e4",
   "metadata": {},
   "outputs": [
    {
     "name": "stdout",
     "output_type": "stream",
     "text": [
      "ElloDeviceResponses._DEVGET_POSITION\n",
      "2097151.9985351562\n",
      "0\n",
      "ElloDeviceResponses._DEVGET_POSITION\n",
      "0\n",
      "Measured position: 1.99951171875\n"
     ]
    }
   ],
   "source": [
    "stage0.move_home()\n",
    "command, data, address = stage0.read_message_blocking_position_response()\n",
    "print(command)\n",
    "print(data)\n",
    "print(address)\n",
    "\n",
    "pos = 2 # [deg]\n",
    "stage0.move_absolute(pos)\n",
    "command, z, address = stage0.read_message_blocking_position_response()\n",
    "print(command)\n",
    "print(address)\n",
    "print('Measured position: ' + str(z))"
   ]
  },
  {
   "cell_type": "code",
   "execution_count": 7,
   "id": "57953bfd-021e-47e4-829b-d4219219ea06",
   "metadata": {},
   "outputs": [
    {
     "name": "stdout",
     "output_type": "stream",
     "text": [
      "ElloDeviceResponses._DEVGET_POSITION\n",
      "0\n",
      "Measured position: 3.00048828125\n"
     ]
    }
   ],
   "source": [
    "pos = 3 # [deg]\n",
    "stage0.move_absolute(pos)\n",
    "command, z, address = stage0.read_message_blocking_position_response()\n",
    "print(command)\n",
    "print(address)\n",
    "print('Measured position: ' + str(z))"
   ]
  },
  {
   "cell_type": "code",
   "execution_count": 8,
   "id": "c0e47853-ac6e-4212-b957-1bd6b0897f7b",
   "metadata": {},
   "outputs": [
    {
     "name": "stdout",
     "output_type": "stream",
     "text": [
      "Measured position: 2.99853515625\n"
     ]
    }
   ],
   "source": [
    "stage1.initialize_motor()\n",
    "\n",
    "stage1.move_home()\n",
    "#command, data, address = stage1.read_message_blocking_position_response()\n",
    "\n",
    "pos = 90.0 # [deg]\n",
    "stage1.move_absolute(pos)\n",
    "command, z, address = stage1.read_message_blocking_position_response()\n",
    "print('Measured position: ' + str(z))"
   ]
  },
  {
   "cell_type": "code",
   "execution_count": null,
   "id": "de8afc73-8a62-42d5-a4a3-f92b6fde36a8",
   "metadata": {},
   "outputs": [],
   "source": [
    "stage2.move_home()\n",
    "command, data, address = stage2.read_message_blocking_position_response()\n",
    "\n",
    "pos = 90.0 # [deg]\n",
    "stage2.move_absolute(pos)\n",
    "command, z, address = stage2.read_message_blocking_position_response()\n",
    "print('Measured position: ' + str(z))"
   ]
  },
  {
   "cell_type": "code",
   "execution_count": 14,
   "id": "e938805b-a1cb-4be1-9efc-81f2d2717523",
   "metadata": {},
   "outputs": [],
   "source": [
    "com.close()"
   ]
  },
  {
   "cell_type": "code",
   "execution_count": null,
   "id": "e02fa593-e293-43ea-b21c-994076b8fc82",
   "metadata": {},
   "outputs": [],
   "source": []
  }
 ],
 "metadata": {
  "kernelspec": {
   "display_name": "Python 3 (ipykernel)",
   "language": "python",
   "name": "python3"
  },
  "language_info": {
   "codemirror_mode": {
    "name": "ipython",
    "version": 3
   },
   "file_extension": ".py",
   "mimetype": "text/x-python",
   "name": "python",
   "nbconvert_exporter": "python",
   "pygments_lexer": "ipython3",
   "version": "3.8.10"
  }
 },
 "nbformat": 4,
 "nbformat_minor": 5
}
