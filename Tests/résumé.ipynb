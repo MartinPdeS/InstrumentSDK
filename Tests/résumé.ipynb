{
 "cells": [
  {
   "cell_type": "code",
   "execution_count": 3,
   "metadata": {
    "collapsed": false,
    "jupyter": {
     "outputs_hidden": false
    }
   },
   "outputs": [],
   "source": [
    "import serial\n",
    "from serial.tools.list_ports import comports"
   ]
  },
  {
   "cell_type": "markdown",
   "metadata": {
    "tags": []
   },
   "source": [
    "# Loading InstrumentSDK package"
   ]
  },
  {
   "cell_type": "code",
   "execution_count": 4,
   "metadata": {},
   "outputs": [],
   "source": [
    "import InstrumentSDK"
   ]
  },
  {
   "cell_type": "markdown",
   "metadata": {
    "jp-MarkdownHeadingCollapsed": true,
    "tags": []
   },
   "source": [
    "# Controlling Elliptec motors"
   ]
  },
  {
   "cell_type": "code",
   "execution_count": 5,
   "metadata": {},
   "outputs": [],
   "source": [
    "https://github.com/augvislab/elliptecstage\n",
    "from elliptecstage.elliptecstage import ElloStage, ElloException"
   ]
  },
  {
   "cell_type": "code",
   "execution_count": 6,
   "metadata": {},
   "outputs": [],
   "source": [
    "# Sélection automatique\n",
    "motif_elliptec = 'FT230X Basic UART'\n",
    "appareil_elliptec = next(filter(lambda x: motif_elliptec in str(x), comports()))"
   ]
  },
  {
   "cell_type": "code",
   "execution_count": 7,
   "metadata": {},
   "outputs": [],
   "source": [
    "def tester_appareil(com, n: int = 0) -> bool:\n",
    "    cmd = f'{format(n, \"01x\")}in\\n'\n",
    "    com.write(bytes(cmd, encoding='utf-8'))\n",
    "    res = str(com.readline(), encoding='utf-8').strip()\n",
    "    return bool(res)\n",
    "\n",
    "def lister_appareils(com, début: int = 0, fin: int = 15) -> list:\n",
    "    return [n for n in range(début, fin+1) if tester_appareil(com, n)]"
   ]
  },
  {
   "cell_type": "code",
   "execution_count": 8,
   "metadata": {},
   "outputs": [],
   "source": [
    "com = serial.Serial(appareil_elliptec.device, timeout=5)\n",
    "addresses = lister_appareils(com, 1, 3)\n",
    "stages = [ElloStage(com, i) for i in addresses]"
   ]
  },
  {
   "cell_type": "code",
   "execution_count": 9,
   "metadata": {},
   "outputs": [
    {
     "name": "stdout",
     "output_type": "stream",
     "text": [
      "# Étage 0\n",
      "2. Positionnement: cmd=<ElloDeviceResponses._DEVGET_POSITION: (b'PO', <bound method ElloDeviceUtility.position of <enum 'ElloDeviceUtility'>>)>, dat=2097151.9995117188, add=1\n",
      "3. Déplacement: z=2.00048828125\n",
      "# Étage 1\n",
      "2. Positionnement: cmd=<ElloDeviceResponses._DEVGET_POSITION: (b'PO', <bound method ElloDeviceUtility.position of <enum 'ElloDeviceUtility'>>)>, dat=2097151.9985351562, add=2\n",
      "3. Déplacement: z=2.00048828125\n",
      "# Étage 2\n",
      "2. Positionnement: cmd=<ElloDeviceResponses._DEVGET_POSITION: (b'PO', <bound method ElloDeviceUtility.position of <enum 'ElloDeviceUtility'>>)>, dat=2097151.9990234375, add=3\n",
      "3. Déplacement: z=1.9990234375\n"
     ]
    }
   ],
   "source": [
    "for i, stage in enumerate(stages):\n",
    "    # Exemple tiré de https://github.com/augvislab/elliptecstage\n",
    "    print(f'# Étage {i}')\n",
    "    \n",
    "    try:\n",
    "        print('2. Positionnement: ', end='')\n",
    "        stage.move_home()\n",
    "        cmd, dat, add = stage.read_message_blocking_position_response()\n",
    "        print(f'{cmd=!r}, {dat=!r}, {add=!r}')\n",
    "    \n",
    "        print('3. Déplacement: ', end='')\n",
    "        stage.move_absolute(2.0)\n",
    "        cmd, z, add = stage.read_message_blocking_position_response()\n",
    "        print(f'{z=!r}')\n",
    "    except ElloException as e:\n",
    "        print()\n",
    "        print('**', e, '**')\n",
    "        print()\n",
    "    \n",
    "    #_ = input('Continuer?')\n",
    "    #if _.startswith('n'):\n",
    "    #    break\n",
    "    "
   ]
  },
  {
   "cell_type": "code",
   "execution_count": 10,
   "metadata": {},
   "outputs": [],
   "source": [
    "com.close()"
   ]
  },
  {
   "cell_type": "markdown",
   "metadata": {},
   "source": [
    "# Controlling APT motor (goniometer)"
   ]
  },
  {
   "cell_type": "code",
   "execution_count": 1,
   "metadata": {
    "collapsed": false,
    "jupyter": {
     "outputs_hidden": false
    }
   },
   "outputs": [],
   "source": [
    "from thorlabs_apt_device.devices.bsc import BSC201 # https://thorlabs-apt-device.readthedocs.io/en/latest/"
   ]
  },
  {
   "cell_type": "code",
   "execution_count": 3,
   "metadata": {},
   "outputs": [],
   "source": [
    "import time"
   ]
  },
  {
   "cell_type": "code",
   "execution_count": 5,
   "metadata": {},
   "outputs": [],
   "source": [
    "# Sélection automatique\n",
    "motif_apt = 'APT Stepper Motor Controller'\n",
    "\n",
    "appareil_apt = next(filter(lambda x: motif_apt in str(x), comports()))"
   ]
  },
  {
   "cell_type": "code",
   "execution_count": 67,
   "metadata": {
    "collapsed": false,
    "jupyter": {
     "outputs_hidden": false
    }
   },
   "outputs": [],
   "source": [
    "# Basé sur https://thorlabs-apt-device.readthedocs.io/en/latest/api/thorlabs_apt_device.devices.bsc.html#thorlabs_apt_device.devices.bsc.BSC201\n",
    "class BSC201_HDR50(BSC201):\n",
    "    # Données tirées de Kinesis\n",
    "    kinesis = {'travel [pas]': 27_033_577,\n",
    "               'vel [pas/s]': 201_576_964,\n",
    "               'acc [pas/s²]': 20_653,\n",
    "               'jog_step [pas]': 37_547,\n",
    "               'jog_vel [pas/s]': 40_315_393,\n",
    "               'jog_acc [pas/s²]': 4_131,\n",
    "               'travel [°]': 360,\n",
    "               'vel [°/s]': 50,\n",
    "               'acc [°/s²]': 25,\n",
    "               'jog_step [°]': 0.5,\n",
    "               'jog_vel [°/s]': 10,\n",
    "               'jog_acc [°/s²]': 5}\n",
    "    \n",
    "    # Données tirées de https://www.thorlabs.com/drawings/8d6029bfe62e7acd-DF270E33-CE4C-A18B-8D52A70104946BCD/HDR50-Manual.pdf\n",
    "    manuel = {'travel [°]': 360,\n",
    "              'vel [°/s]': 50,\n",
    "              'acc [°/s²]': 80,\n",
    "              'macropas [°]': 1.8,\n",
    "              'micropas [1/macropas]': 2048,\n",
    "              'jog_step [pas]': kinesis['jog_step [pas]']}\n",
    "    manuel['micropas [°]'] = manuel['macropas [°]'] / manuel['micropas [1/macropas]']\n",
    "    manuel['travel [pas]'] = int( manuel['travel [°]'] / manuel['micropas [°]'] )\n",
    "    manuel['vel [pas/s]'] = int( manuel['vel [°/s]'] / manuel['micropas [°]'] )\n",
    "    manuel['acc [pas/s²]'] = int( manuel['acc [°/s²]'] / manuel['micropas [°]'] )\n",
    "    \n",
    "    def __init__(self,\n",
    "                 serial_port=None,\n",
    "                 vid=None,\n",
    "                 pid=None,\n",
    "                 manufacturer=None,\n",
    "                 product=None,\n",
    "                 serial_number='40',\n",
    "                 location=None,\n",
    "                 home=True,\n",
    "                 invert_direction_logic=False,\n",
    "                 swap_limit_switches=True,\n",
    "                 réglages=kinesis):\n",
    "        début = time.time()\n",
    "        super().__init__(serial_port=serial_port,\n",
    "                         vid=vid, pid=pid,\n",
    "                         manufacturer=manufacturer,\n",
    "                         product=product,\n",
    "                         serial_number=serial_number,\n",
    "                         location=location,\n",
    "                         home=home,\n",
    "                         invert_direction_logic=invert_direction_logic,\n",
    "                         swap_limit_switches=swap_limit_switches)\n",
    "    \n",
    "        # Initial velocity parameters are effectively zero on startup, set something more sensible\n",
    "        # Homing is initiated 1.0s after init, so hopefully these will take effect before then...\n",
    "        # Tiré de la source pour BSC201_DRV250\n",
    "        for bay_i, _ in enumerate(self.bays):\n",
    "            for channel_i, _ in enumerate(self.channels):\n",
    "                self.set_home_params(velocity=réglages['vel [pas/s]'],\n",
    "                                     offset_distance=0,\n",
    "                                     bay=bay_i,\n",
    "                                     channel=channel_i)\n",
    "                self.set_velocity_params(acceleration=réglages['acc [pas/s²]'],\n",
    "                                         max_velocity=réglages['vel [pas/s]'],\n",
    "                                         bay=bay_i,\n",
    "                                         channel=channel_i)\n",
    "                self.set_jog_params(size=réglages['jog_step [pas]'],\n",
    "                                    acceleration=réglages['jog_acc [pas/s²]'],\n",
    "                                    max_velocity=réglages['jog_vel [pas/s]'],\n",
    "                                    bay=bay_i,\n",
    "                                    channel=channel_i)\n",
    "                # Use open-loop positioning (only using stepper counts)\n",
    "                #self.set_loop_params(loop_mode=2, prop=50000, integral=5000, diff=100, pid_clip=16000000, pid_tol=80, encoder_const=4292282941, bay=bay_i, channel=channel_i)\n",
    "                self.set_loop_params(loop_mode=1, prop=0, integral=0, diff=0, pid_clip=0, pid_tol=0, encoder_const=0, bay=bay_i, channel=channel_i)\n",
    "        \n",
    "        délai = time.time() - début\n",
    "        if délai > 1:\n",
    "            print(f\"L'initialisation s'est faite trop lentement ({délai=}s).\")\n"
   ]
  },
  {
   "cell_type": "code",
   "execution_count": 39,
   "metadata": {},
   "outputs": [],
   "source": [
    "stage = BSC201_HDR50(serial_port=appareil_apt, réglages=BSC201_HDR50.manuel)\n",
    "stage.identify()"
   ]
  },
  {
   "cell_type": "code",
   "execution_count": 47,
   "metadata": {
    "collapsed": false,
    "jupyter": {
     "outputs_hidden": false
    },
    "scrolled": true
   },
   "outputs": [
    {
     "data": {
      "text/plain": [
       "{'position': -27723,\n",
       " 'enc_count': 0,\n",
       " 'velocity': 0.0,\n",
       " 'forward_limit_switch': True,\n",
       " 'reverse_limit_switch': False,\n",
       " 'moving_forward': False,\n",
       " 'moving_reverse': True,\n",
       " 'jogging_forward': False,\n",
       " 'jogging_reverse': False,\n",
       " 'motor_connected': False,\n",
       " 'homing': False,\n",
       " 'homed': False,\n",
       " 'tracking': True,\n",
       " 'interlock': False,\n",
       " 'settled': False,\n",
       " 'motion_error': False,\n",
       " 'motor_current_limit_reached': False,\n",
       " 'channel_enabled': True,\n",
       " 'msg': 'mot_get_statusupdate',\n",
       " 'msgid': 1153,\n",
       " 'source': 33,\n",
       " 'dest': 1,\n",
       " 'chan_ident': 1,\n",
       " 'forward_limit_soft': False,\n",
       " 'reverse_limit_soft': False,\n",
       " 'initializing': False,\n",
       " 'instrument_error': False,\n",
       " 'overtemp': False,\n",
       " 'voltage_fault': False,\n",
       " 'commutation_error': False,\n",
       " 'digital_in_1': True,\n",
       " 'digital_in_2': False,\n",
       " 'digital_in_3': True,\n",
       " 'digital_in_4': False,\n",
       " 'encoder_fault': False,\n",
       " 'overcurrent': False,\n",
       " 'current_fault': False,\n",
       " 'power_ok': False,\n",
       " 'active': False,\n",
       " 'error': False}"
      ]
     },
     "execution_count": 47,
     "metadata": {},
     "output_type": "execute_result"
    }
   ],
   "source": [
    "stage.status"
   ]
  },
  {
   "cell_type": "code",
   "execution_count": 45,
   "metadata": {
    "collapsed": false,
    "jupyter": {
     "outputs_hidden": false
    },
    "scrolled": true,
    "tags": []
   },
   "outputs": [
    {
     "data": {
      "text/plain": [
       "{'position': -36743,\n",
       " 'enc_count': 0,\n",
       " 'velocity': 0.0,\n",
       " 'forward_limit_switch': True,\n",
       " 'reverse_limit_switch': False,\n",
       " 'moving_forward': False,\n",
       " 'moving_reverse': False,\n",
       " 'jogging_forward': False,\n",
       " 'jogging_reverse': False,\n",
       " 'motor_connected': False,\n",
       " 'homing': False,\n",
       " 'homed': False,\n",
       " 'tracking': True,\n",
       " 'interlock': False,\n",
       " 'settled': False,\n",
       " 'motion_error': False,\n",
       " 'motor_current_limit_reached': False,\n",
       " 'channel_enabled': True,\n",
       " 'msg': 'mot_get_statusupdate',\n",
       " 'msgid': 1153,\n",
       " 'source': 33,\n",
       " 'dest': 1,\n",
       " 'chan_ident': 1,\n",
       " 'forward_limit_soft': False,\n",
       " 'reverse_limit_soft': False,\n",
       " 'initializing': False,\n",
       " 'instrument_error': False,\n",
       " 'overtemp': False,\n",
       " 'voltage_fault': False,\n",
       " 'commutation_error': False,\n",
       " 'digital_in_1': True,\n",
       " 'digital_in_2': False,\n",
       " 'digital_in_3': True,\n",
       " 'digital_in_4': False,\n",
       " 'encoder_fault': False,\n",
       " 'overcurrent': False,\n",
       " 'current_fault': False,\n",
       " 'power_ok': False,\n",
       " 'active': False,\n",
       " 'error': False}"
      ]
     },
     "execution_count": 45,
     "metadata": {},
     "output_type": "execute_result"
    }
   ],
   "source": [
    "stage.move_velocity(True)\n",
    "stage.status"
   ]
  },
  {
   "cell_type": "code",
   "execution_count": 49,
   "metadata": {
    "scrolled": true,
    "tags": []
   },
   "outputs": [
    {
     "data": {
      "text/plain": [
       "{'position': -19751,\n",
       " 'enc_count': 0,\n",
       " 'velocity': 0.0,\n",
       " 'forward_limit_switch': True,\n",
       " 'reverse_limit_switch': False,\n",
       " 'moving_forward': False,\n",
       " 'moving_reverse': False,\n",
       " 'jogging_forward': False,\n",
       " 'jogging_reverse': False,\n",
       " 'motor_connected': False,\n",
       " 'homing': False,\n",
       " 'homed': False,\n",
       " 'tracking': True,\n",
       " 'interlock': False,\n",
       " 'settled': False,\n",
       " 'motion_error': False,\n",
       " 'motor_current_limit_reached': False,\n",
       " 'channel_enabled': True,\n",
       " 'msg': 'mot_get_statusupdate',\n",
       " 'msgid': 1153,\n",
       " 'source': 33,\n",
       " 'dest': 1,\n",
       " 'chan_ident': 1,\n",
       " 'forward_limit_soft': False,\n",
       " 'reverse_limit_soft': False,\n",
       " 'initializing': False,\n",
       " 'instrument_error': False,\n",
       " 'overtemp': False,\n",
       " 'voltage_fault': False,\n",
       " 'commutation_error': False,\n",
       " 'digital_in_1': True,\n",
       " 'digital_in_2': False,\n",
       " 'digital_in_3': True,\n",
       " 'digital_in_4': False,\n",
       " 'encoder_fault': False,\n",
       " 'overcurrent': False,\n",
       " 'current_fault': False,\n",
       " 'power_ok': False,\n",
       " 'active': False,\n",
       " 'error': False}"
      ]
     },
     "execution_count": 49,
     "metadata": {},
     "output_type": "execute_result"
    }
   ],
   "source": [
    "stage.stop(True)\n",
    "stage.status"
   ]
  },
  {
   "cell_type": "code",
   "execution_count": 38,
   "metadata": {
    "scrolled": true,
    "tags": []
   },
   "outputs": [],
   "source": [
    "stage.close()"
   ]
  },
  {
   "cell_type": "code",
   "execution_count": null,
   "metadata": {},
   "outputs": [],
   "source": []
  }
 ],
 "metadata": {
  "kernelspec": {
   "display_name": "Python 3 (ipykernel)",
   "language": "python",
   "name": "python3"
  },
  "language_info": {
   "codemirror_mode": {
    "name": "ipython",
    "version": 3
   },
   "file_extension": ".py",
   "mimetype": "text/x-python",
   "name": "python",
   "nbconvert_exporter": "python",
   "pygments_lexer": "ipython3",
   "version": "3.8.10"
  }
 },
 "nbformat": 4,
 "nbformat_minor": 4
}
