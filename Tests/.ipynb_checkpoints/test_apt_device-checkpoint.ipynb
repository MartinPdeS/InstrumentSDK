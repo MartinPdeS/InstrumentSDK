{
 "cells": [
  {
   "cell_type": "code",
   "execution_count": 1,
   "id": "4df8d40b-9ad9-4899-92cb-4c00a7b074b3",
   "metadata": {},
   "outputs": [],
   "source": [
    "from thorlabs_apt_device.devices.bsc import BSC201 # https://thorlabs-apt-device.readthedocs.io/en/latest/"
   ]
  },
  {
   "cell_type": "code",
   "execution_count": 2,
   "id": "2ca2bf48-292d-40d9-818e-073e53e00e48",
   "metadata": {},
   "outputs": [],
   "source": [
    "import serial\n",
    "from serial.tools.list_ports import comports"
   ]
  },
  {
   "cell_type": "code",
   "execution_count": 3,
   "id": "f3b59c10-48bb-41dc-8e91-d285f0f1799e",
   "metadata": {},
   "outputs": [
    {
     "name": "stdout",
     "output_type": "stream",
     "text": [
      "/dev/ttyS0 - ttyS0\n",
      "/dev/ttyUSB2 - APT Stepper Motor Controller - APT Stepper Motor Controller\n",
      "/dev/ttyUSB1 - FT230X Basic UART - FT230X Basic UART\n"
     ]
    }
   ],
   "source": [
    "for p in comports():\n",
    "    print(p)"
   ]
  },
  {
   "cell_type": "code",
   "execution_count": 4,
   "id": "b2b5193c",
   "metadata": {},
   "outputs": [
    {
     "data": {
      "text/plain": [
       "(<serial.tools.list_ports_linux.SysFS at 0x7f23c0653ca0>,\n",
       " <serial.tools.list_ports_linux.SysFS at 0x7f23c0653d90>)"
      ]
     },
     "execution_count": 4,
     "metadata": {},
     "output_type": "execute_result"
    }
   ],
   "source": [
    "motif_apt = 'APT Stepper Motor Controller'\n",
    "motif_elliptec = 'FT230X Basic UART'\n",
    "\n",
    "appareil_apt = next(filter(lambda x: motif_apt in str(x), comports()))\n",
    "appareil_elliptec = next(filter(lambda x: motif_elliptec in str(x), comports()))\n",
    "\n",
    "appareil_apt, appareil_elliptec"
   ]
  },
  {
   "cell_type": "code",
   "execution_count": 5,
   "id": "57f09a90",
   "metadata": {},
   "outputs": [],
   "source": [
    "numéro_série = \"40219394\""
   ]
  },
  {
   "cell_type": "markdown",
   "id": "de1559ea",
   "metadata": {},
   "source": [
    "# Essai avec la classe modifié"
   ]
  },
  {
   "cell_type": "code",
   "execution_count": 6,
   "id": "dc7bafe8-9382-4459-9dc1-9b1bb563541f",
   "metadata": {},
   "outputs": [],
   "source": [
    "# Basé sur https://thorlabs-apt-device.readthedocs.io/en/latest/api/thorlabs_apt_device.devices.bsc.html\n",
    "class BSC201_HDR50(BSC201):\n",
    "    # Données tirées de Kinesis\n",
    "    travel_kinesis = 27_033_577\n",
    "    vel_kinesis = 201_578_964 // 10\n",
    "    acc_kinesis = 20_653\n",
    "    jog_step_kinesis = 37_547\n",
    "    \n",
    "    def __init__(self, serial_port=None, vid=None, pid=None, manufacturer=None, product=None, serial_number=\"40\", location=None, home=True, invert_direction_logic=False, swap_limit_switches=True):\n",
    "        super().__init__(serial_port=serial_port,\n",
    "                         vid=vid, pid=pid,\n",
    "                         manufacturer=manufacturer,\n",
    "                         product=product,\n",
    "                         serial_number=serial_number,\n",
    "                         location=location,\n",
    "                         home=home,\n",
    "                         invert_direction_logic=invert_direction_logic,\n",
    "                         swap_limit_switches=swap_limit_switches)\n",
    "    \n",
    "        # Initial velocity parameters are effectively zero on startup, set something more sensible\n",
    "        # Homing is initiated 1.0s after init, so hopefully these will take effect before then...\n",
    "        for bay_i, _ in enumerate(self.bays):\n",
    "            for channel_i, _ in enumerate(self.channels):\n",
    "                self.set_velocity_params(acceleration=self.acc_kinesis,\n",
    "                                         max_velocity=self.vel_kinesis,\n",
    "                                         bay=bay_i,\n",
    "                                         channel=channel_i)\n",
    "                self.set_jog_params(size=self.jog_step_kinesis,\n",
    "                                    acceleration=self.acc_kinesis,\n",
    "                                    max_velocity=self.vel_kinesis,\n",
    "                                    bay=bay_i,\n",
    "                                    channel=channel_i)\n",
    "                self.set_home_params(velocity=self.vel_kinesis,\n",
    "                                     offset_distance=0,\n",
    "                                     bay=bay_i,\n",
    "                                     channel=channel_i)\n"
   ]
  },
  {
   "cell_type": "code",
   "execution_count": 27,
   "id": "57ed2342",
   "metadata": {
    "scrolled": true
   },
   "outputs": [
    {
     "data": {
      "text/plain": [
       "{'position': 0,\n",
       " 'enc_count': 0,\n",
       " 'velocity': 0.0,\n",
       " 'forward_limit_switch': True,\n",
       " 'reverse_limit_switch': False,\n",
       " 'moving_forward': True,\n",
       " 'moving_reverse': False,\n",
       " 'jogging_forward': False,\n",
       " 'jogging_reverse': False,\n",
       " 'motor_connected': False,\n",
       " 'homing': True,\n",
       " 'homed': False,\n",
       " 'tracking': True,\n",
       " 'interlock': False,\n",
       " 'settled': False,\n",
       " 'motion_error': False,\n",
       " 'motor_current_limit_reached': False,\n",
       " 'channel_enabled': True,\n",
       " 'msg': 'mot_get_statusupdate',\n",
       " 'msgid': 1153,\n",
       " 'source': 33,\n",
       " 'dest': 1,\n",
       " 'chan_ident': 1,\n",
       " 'forward_limit_soft': False,\n",
       " 'reverse_limit_soft': False,\n",
       " 'initializing': False,\n",
       " 'instrument_error': False,\n",
       " 'overtemp': False,\n",
       " 'voltage_fault': False,\n",
       " 'commutation_error': False,\n",
       " 'digital_in_1': True,\n",
       " 'digital_in_2': False,\n",
       " 'digital_in_3': True,\n",
       " 'digital_in_4': False,\n",
       " 'encoder_fault': False,\n",
       " 'overcurrent': False,\n",
       " 'current_fault': False,\n",
       " 'power_ok': False,\n",
       " 'active': False,\n",
       " 'error': False}"
      ]
     },
     "execution_count": 27,
     "metadata": {},
     "output_type": "execute_result"
    }
   ],
   "source": [
    "stage.status"
   ]
  },
  {
   "cell_type": "code",
   "execution_count": 40,
   "id": "be677f42",
   "metadata": {},
   "outputs": [],
   "source": [
    "stage.close()"
   ]
  },
  {
   "cell_type": "code",
   "execution_count": 41,
   "id": "055138cd",
   "metadata": {},
   "outputs": [
    {
     "data": {
      "text/plain": [
       "{'position': 0,\n",
       " 'enc_count': 0,\n",
       " 'velocity': 0.0,\n",
       " 'forward_limit_switch': False,\n",
       " 'reverse_limit_switch': False,\n",
       " 'moving_forward': False,\n",
       " 'moving_reverse': False,\n",
       " 'jogging_forward': False,\n",
       " 'jogging_reverse': False,\n",
       " 'motor_connected': False,\n",
       " 'homing': True,\n",
       " 'homed': False,\n",
       " 'tracking': False,\n",
       " 'interlock': False,\n",
       " 'settled': False,\n",
       " 'motion_error': False,\n",
       " 'motor_current_limit_reached': False,\n",
       " 'channel_enabled': False,\n",
       " 'msg': '',\n",
       " 'msgid': 0,\n",
       " 'source': 0,\n",
       " 'dest': 0,\n",
       " 'chan_ident': 0}"
      ]
     },
     "execution_count": 41,
     "metadata": {},
     "output_type": "execute_result"
    }
   ],
   "source": [
    "stage = BSC201_HDR50(serial_number=numéro_série)\n",
    "stage.status"
   ]
  },
  {
   "cell_type": "code",
   "execution_count": 42,
   "id": "8aeac0c0-20f6-4d28-b482-5c9dbc0eeede",
   "metadata": {
    "scrolled": true
   },
   "outputs": [
    {
     "data": {
      "text/plain": [
       "{'position': 0,\n",
       " 'enc_count': 0,\n",
       " 'velocity': 0.0,\n",
       " 'forward_limit_switch': True,\n",
       " 'reverse_limit_switch': False,\n",
       " 'moving_forward': True,\n",
       " 'moving_reverse': False,\n",
       " 'jogging_forward': False,\n",
       " 'jogging_reverse': False,\n",
       " 'motor_connected': False,\n",
       " 'homing': True,\n",
       " 'homed': False,\n",
       " 'tracking': True,\n",
       " 'interlock': False,\n",
       " 'settled': False,\n",
       " 'motion_error': False,\n",
       " 'motor_current_limit_reached': False,\n",
       " 'channel_enabled': True,\n",
       " 'msg': 'mot_get_statusupdate',\n",
       " 'msgid': 1153,\n",
       " 'source': 33,\n",
       " 'dest': 1,\n",
       " 'chan_ident': 1,\n",
       " 'forward_limit_soft': False,\n",
       " 'reverse_limit_soft': False,\n",
       " 'initializing': False,\n",
       " 'instrument_error': False,\n",
       " 'overtemp': False,\n",
       " 'voltage_fault': False,\n",
       " 'commutation_error': False,\n",
       " 'digital_in_1': True,\n",
       " 'digital_in_2': False,\n",
       " 'digital_in_3': True,\n",
       " 'digital_in_4': False,\n",
       " 'encoder_fault': False,\n",
       " 'overcurrent': False,\n",
       " 'current_fault': False,\n",
       " 'power_ok': False,\n",
       " 'active': False,\n",
       " 'error': False}"
      ]
     },
     "execution_count": 42,
     "metadata": {},
     "output_type": "execute_result"
    }
   ],
   "source": [
    "stage.status"
   ]
  },
  {
   "cell_type": "code",
   "execution_count": 11,
   "id": "dcf41eac-365a-4285-b256-49041ff85058",
   "metadata": {},
   "outputs": [],
   "source": [
    "stage.identify()"
   ]
  },
  {
   "cell_type": "code",
   "execution_count": 56,
   "id": "924b4ce8",
   "metadata": {},
   "outputs": [],
   "source": [
    "stage.home()"
   ]
  },
  {
   "cell_type": "code",
   "execution_count": 54,
   "id": "c7e012d6",
   "metadata": {},
   "outputs": [],
   "source": [
    "stage.stop(True)"
   ]
  },
  {
   "cell_type": "code",
   "execution_count": 18,
   "id": "e15ec3d1",
   "metadata": {},
   "outputs": [],
   "source": [
    "stage.move_jog()"
   ]
  },
  {
   "cell_type": "code",
   "execution_count": 26,
   "id": "45bb5a91",
   "metadata": {},
   "outputs": [],
   "source": [
    "stage.move_velocity(True)\n",
    "stage.stauts"
   ]
  },
  {
   "cell_type": "code",
   "execution_count": 24,
   "id": "d79d3828",
   "metadata": {},
   "outputs": [],
   "source": [
    "stage.move_relative(int(20e6))"
   ]
  },
  {
   "cell_type": "code",
   "execution_count": null,
   "id": "3ef2f566",
   "metadata": {},
   "outputs": [],
   "source": [
    "stage.move_relative(-20000)"
   ]
  },
  {
   "cell_type": "code",
   "execution_count": 29,
   "id": "55b9d425",
   "metadata": {},
   "outputs": [],
   "source": [
    "stage.move_absolute(4000000*2)"
   ]
  },
  {
   "cell_type": "code",
   "execution_count": 122,
   "id": "f6822e7a",
   "metadata": {},
   "outputs": [],
   "source": [
    "stage.close()"
   ]
  },
  {
   "cell_type": "code",
   "execution_count": null,
   "id": "62801542",
   "metadata": {},
   "outputs": [],
   "source": []
  }
 ],
 "metadata": {
  "kernelspec": {
   "display_name": "Python 3 (ipykernel)",
   "language": "python",
   "name": "python3"
  },
  "language_info": {
   "codemirror_mode": {
    "name": "ipython",
    "version": 3
   },
   "file_extension": ".py",
   "mimetype": "text/x-python",
   "name": "python",
   "nbconvert_exporter": "python",
   "pygments_lexer": "ipython3",
   "version": "3.8.10"
  }
 },
 "nbformat": 4,
 "nbformat_minor": 5
}
